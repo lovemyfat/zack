{
 "cells": [
  {
   "cell_type": "markdown",
   "metadata": {},
   "source": [
    "### 数据清洗步骤：\n",
    "1.缺失值处理（通过describe与len直接发现，通过0数据发现）\n",
    "2.异常值处理（通过散点图发现）\n",
    "#### 一般遇到缺失值，处理方式为（删除、插补、不处理）\n",
    "插补的方式主要有：均值插补、中位数插补、众数、固定值、最近数据、回归、拉格朗日、牛顿、分段差值等等\n",
    "#### 遇到异常值，一般处理方式为视为缺失值、删除、修补（平均数、中位数等等）、不处理"
   ]
  },
  {
   "cell_type": "code",
   "execution_count": null,
   "metadata": {},
   "outputs": [],
   "source": []
  }
 ],
 "metadata": {
  "kernelspec": {
   "display_name": "Python [conda env:py3]",
   "language": "python",
   "name": "conda-env-py3-py"
  },
  "language_info": {
   "codemirror_mode": {
    "name": "ipython",
    "version": 3
   },
   "file_extension": ".py",
   "mimetype": "text/x-python",
   "name": "python",
   "nbconvert_exporter": "python",
   "pygments_lexer": "ipython3",
   "version": "3.7.0"
  }
 },
 "nbformat": 4,
 "nbformat_minor": 2
}
