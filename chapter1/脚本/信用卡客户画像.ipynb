{
 "cells": [
  {
   "cell_type": "code",
   "execution_count": 1,
   "metadata": {},
   "outputs": [],
   "source": [
    "import pandas as pd\n",
    "import os\n",
    "import sqlite3\n",
    "import matplotlib.pyplot as plt"
   ]
  },
  {
   "cell_type": "code",
   "execution_count": 2,
   "metadata": {},
   "outputs": [],
   "source": [
    "os.chdir(r'C:/Users/cyb/ipnb/haha/280_Ben_八大直播八大案例配套课件/第三章/HW5/')"
   ]
  },
  {
   "cell_type": "code",
   "execution_count": 3,
   "metadata": {},
   "outputs": [],
   "source": [
    "con = sqlite3.connect(':memory:')"
   ]
  },
  {
   "cell_type": "code",
   "execution_count": 4,
   "metadata": {},
   "outputs": [],
   "source": [
    "# 读取 excel 文件\n",
    "card = pd.read_csv('card.csv', encoding='gbk')\n",
    "disp = pd.read_csv('disp.csv', encoding='gbk')\n",
    "clients = pd.read_csv('clients.csv', encoding='gbk')\n",
    "# 存入数据库\n",
    "card.to_sql('card', con)\n",
    "disp.to_sql('disp', con)\n",
    "clients.to_sql('clients', con)"
   ]
  },
  {
   "cell_type": "code",
   "execution_count": 5,
   "metadata": {},
   "outputs": [
    {
     "data": {
      "text/plain": [
       "Index(['card_id', 'disp_id', 'issued', 'type'], dtype='object')"
      ]
     },
     "execution_count": 5,
     "metadata": {},
     "output_type": "execute_result"
    }
   ],
   "source": [
    "card.columns"
   ]
  },
  {
   "cell_type": "code",
   "execution_count": 6,
   "metadata": {},
   "outputs": [],
   "source": [
    "car_sql = '''\n",
    "select a.*, c.sex, c.birth_date, c.district_id\n",
    "from card a\n",
    "left join disp b on a.disp_id=b.disp_id\n",
    "left join clients c on b.client_id=c.client_id\n",
    "where b.type='所有者'\n",
    "'''\n",
    "card_t = pd.read_sql(car_sql, con)"
   ]
  },
  {
   "cell_type": "code",
   "execution_count": 7,
   "metadata": {},
   "outputs": [
    {
     "data": {
      "text/html": [
       "<div>\n",
       "<style scoped>\n",
       "    .dataframe tbody tr th:only-of-type {\n",
       "        vertical-align: middle;\n",
       "    }\n",
       "\n",
       "    .dataframe tbody tr th {\n",
       "        vertical-align: top;\n",
       "    }\n",
       "\n",
       "    .dataframe thead th {\n",
       "        text-align: right;\n",
       "    }\n",
       "</style>\n",
       "<table border=\"1\" class=\"dataframe\">\n",
       "  <thead>\n",
       "    <tr style=\"text-align: right;\">\n",
       "      <th></th>\n",
       "      <th>index</th>\n",
       "      <th>card_id</th>\n",
       "      <th>disp_id</th>\n",
       "      <th>issued</th>\n",
       "      <th>type</th>\n",
       "      <th>sex</th>\n",
       "      <th>birth_date</th>\n",
       "      <th>district_id</th>\n",
       "    </tr>\n",
       "  </thead>\n",
       "  <tbody>\n",
       "    <tr>\n",
       "      <th>0</th>\n",
       "      <td>0</td>\n",
       "      <td>1005</td>\n",
       "      <td>9285</td>\n",
       "      <td>1993-11-07</td>\n",
       "      <td>普通卡</td>\n",
       "      <td>女</td>\n",
       "      <td>1968-01-28</td>\n",
       "      <td>74</td>\n",
       "    </tr>\n",
       "    <tr>\n",
       "      <th>1</th>\n",
       "      <td>1</td>\n",
       "      <td>104</td>\n",
       "      <td>588</td>\n",
       "      <td>1994-01-19</td>\n",
       "      <td>普通卡</td>\n",
       "      <td>女</td>\n",
       "      <td>1960-10-20</td>\n",
       "      <td>61</td>\n",
       "    </tr>\n",
       "    <tr>\n",
       "      <th>2</th>\n",
       "      <td>2</td>\n",
       "      <td>747</td>\n",
       "      <td>4915</td>\n",
       "      <td>1994-02-05</td>\n",
       "      <td>普通卡</td>\n",
       "      <td>男</td>\n",
       "      <td>1963-07-19</td>\n",
       "      <td>40</td>\n",
       "    </tr>\n",
       "    <tr>\n",
       "      <th>3</th>\n",
       "      <td>3</td>\n",
       "      <td>70</td>\n",
       "      <td>439</td>\n",
       "      <td>1994-02-08</td>\n",
       "      <td>普通卡</td>\n",
       "      <td>女</td>\n",
       "      <td>1968-09-12</td>\n",
       "      <td>51</td>\n",
       "    </tr>\n",
       "    <tr>\n",
       "      <th>4</th>\n",
       "      <td>4</td>\n",
       "      <td>577</td>\n",
       "      <td>3687</td>\n",
       "      <td>1994-02-15</td>\n",
       "      <td>普通卡</td>\n",
       "      <td>男</td>\n",
       "      <td>1972-02-06</td>\n",
       "      <td>49</td>\n",
       "    </tr>\n",
       "  </tbody>\n",
       "</table>\n",
       "</div>"
      ],
      "text/plain": [
       "   index  card_id  disp_id      issued type sex  birth_date  district_id\n",
       "0      0     1005     9285  1993-11-07  普通卡   女  1968-01-28           74\n",
       "1      1      104      588  1994-01-19  普通卡   女  1960-10-20           61\n",
       "2      2      747     4915  1994-02-05  普通卡   男  1963-07-19           40\n",
       "3      3       70      439  1994-02-08  普通卡   女  1968-09-12           51\n",
       "4      4      577     3687  1994-02-15  普通卡   男  1972-02-06           49"
      ]
     },
     "execution_count": 7,
     "metadata": {},
     "output_type": "execute_result"
    }
   ],
   "source": [
    "card_t.head()"
   ]
  },
  {
   "cell_type": "code",
   "execution_count": 8,
   "metadata": {},
   "outputs": [],
   "source": [
    "from pylab import mpl\n",
    "mpl.rcParams['font.sans-serif'] = ['SimHei'] # 指定默认字体\n",
    "mpl.rcParams['axes.unicode_minus'] = False # 解决保存图像是负号'-'显示为方块的问题"
   ]
  },
  {
   "cell_type": "code",
   "execution_count": 9,
   "metadata": {},
   "outputs": [],
   "source": [
    "from datetime import *\n",
    "card_t['issued_date'] = pd.to_datetime(card_t['issued'])\n",
    "card_t['issued_year'] = card_t['issued_date'].map(lambda x: x.year)"
   ]
  },
  {
   "cell_type": "markdown",
   "metadata": {},
   "source": [
    "1. 不同类型卡的持卡人的性别对比\n",
    "2. 不同类型卡的持卡人在办卡时的平均年龄对比\n",
    "3. 不同类型卡的持卡人在办卡前一年内的平均帐户余额对比\n",
    "4. 不同类型卡的持卡人在办卡前一年内的平均收入对比"
   ]
  },
  {
   "cell_type": "markdown",
   "metadata": {},
   "source": [
    "### 不同卡的分布 \n",
    " - 时间 + 分类变量"
   ]
  },
  {
   "cell_type": "code",
   "execution_count": 10,
   "metadata": {},
   "outputs": [
    {
     "data": {
      "text/plain": [
       "<matplotlib.axes._subplots.AxesSubplot at 0x273c8fc6240>"
      ]
     },
     "execution_count": 10,
     "metadata": {},
     "output_type": "execute_result"
    },
    {
     "data": {
      "image/png": "[encoded data removed]",
      "text/plain": [
       "<Figure size 432x288 with 1 Axes>"
      ]
     },
     "metadata": {
      "needs_background": "light"
     },
     "output_type": "display_data"
    }
   ],
   "source": [
    "card_t.card_id.groupby(card_t['issued_year']).count().plot(kind='bar')# 年变化趋势，但是看不出各种卡的占比情况"
   ]
  },
  {
   "cell_type": "code",
   "execution_count": 11,
   "metadata": {},
   "outputs": [
    {
     "data": {
      "text/plain": [
       "<matplotlib.axes._subplots.AxesSubplot at 0x273c90b9128>"
      ]
     },
     "execution_count": 11,
     "metadata": {},
     "output_type": "execute_result"
    },
    {
     "data": {
      "image/png": "[encoded data removed]",
      "text/plain": [
       "<Figure size 432x288 with 1 Axes>"
      ]
     },
     "metadata": {},
     "output_type": "display_data"
    }
   ],
   "source": [
    "card_t.type.value_counts().plot(kind='pie', autopct='%.1f%%')# 饼形图看到卡的占比，但是看不出年变化趋势"
   ]
  },
  {
   "cell_type": "code",
   "execution_count": 12,
   "metadata": {},
   "outputs": [
    {
     "data": {
      "text/plain": [
       "<matplotlib.axes._subplots.AxesSubplot at 0x273c90fdb70>"
      ]
     },
     "execution_count": 12,
     "metadata": {},
     "output_type": "execute_result"
    },
    {
     "data": {
      "image/png": "[encoded data removed]",
      "text/plain": [
       "<Figure size 432x288 with 1 Axes>"
      ]
     },
     "metadata": {
      "needs_background": "light"
     },
     "output_type": "display_data"
    }
   ],
   "source": [
    "pd.crosstab(card_t.issued_year, card_t.type).plot(kind='bar')# 为了同时兼顾两者，使用柱形图，普通的柱形图看不出占比"
   ]
  },
  {
   "cell_type": "code",
   "execution_count": 13,
   "metadata": {},
   "outputs": [
    {
     "data": {
      "text/plain": [
       "<matplotlib.axes._subplots.AxesSubplot at 0x273c93e0780>"
      ]
     },
     "execution_count": 13,
     "metadata": {},
     "output_type": "execute_result"
    },
    {
     "data": {
      "image/png": "[encoded data removed]",
      "text/plain": [
       "<Figure size 432x288 with 1 Axes>"
      ]
     },
     "metadata": {
      "needs_background": "light"
     },
     "output_type": "display_data"
    }
   ],
   "source": [
    "t1 = pd.crosstab(card_t.issued_year, card_t.type)\n",
    "t1['sum1'] = t1.sum(1)\n",
    "t2 = t1.div(t1['sum1'], axis=0)\n",
    "t2.drop('sum1', 1).plot(kind='bar', stacked=True)# 堆叠柱形图，可以看出占比"
   ]
  },
  {
   "cell_type": "code",
   "execution_count": 14,
   "metadata": {},
   "outputs": [
    {
     "data": {
      "image/png": "[encoded data removed]",
      "text/plain": [
       "<Figure size 432x288 with 1 Axes>"
      ]
     },
     "metadata": {
      "needs_background": "light"
     },
     "output_type": "display_data"
    }
   ],
   "source": [
    "labels=[\"青年卡\",\"普通卡\",\"金卡\"]\n",
    "y1=t1.loc[:,\"青年卡\"].astype('int')\n",
    "y2=t1.loc[:,\"普通卡\"].astype('int')\n",
    "y3=t1.loc[:,\"金卡\"].astype('int')\n",
    "x=t1.index.astype('int')\n",
    "plt.stackplot(x,y1,y2,y3,labels = labels)# 堆叠面积图更能反映趋势和占比\n",
    "plt.title('发卡趋势')\n",
    "plt.ylabel('发卡量')\n",
    "plt.legend(loc = 'upper left')\n",
    "plt.show()"
   ]
  },
  {
   "cell_type": "markdown",
   "metadata": {},
   "source": [
    "### 不同持卡人的性别对比\n",
    " - 两个分类变量"
   ]
  },
  {
   "cell_type": "code",
   "execution_count": 16,
   "metadata": {},
   "outputs": [
    {
     "data": {
      "image/png": "[encoded data removed]",
      "text/plain": [
       "<Figure size 432x288 with 1 Axes>"
      ]
     },
     "metadata": {
      "needs_background": "light"
     },
     "output_type": "display_data"
    }
   ],
   "source": [
    "from stack2dim import *\n",
    "\n",
    "stack2dim(card_t, 'type', 'sex')# 反映了各类卡的数量区别，和各种类型卡的性别占比"
   ]
  },
  {
   "cell_type": "markdown",
   "metadata": {},
   "source": [
    "### 不同类型卡的持卡人在办卡时的平均年龄对比\n",
    " - 分类变量 + 连续变量"
   ]
  },
  {
   "cell_type": "code",
   "execution_count": 19,
   "metadata": {},
   "outputs": [
    {
     "data": {
      "text/plain": [
       "<matplotlib.axes._subplots.AxesSubplot at 0x273d33b8588>"
      ]
     },
     "execution_count": 19,
     "metadata": {},
     "output_type": "execute_result"
    },
    {
     "data": {
      "image/png": "[encoded data removed]",
      "text/plain": [
       "<Figure size 432x288 with 1 Axes>"
      ]
     },
     "metadata": {
      "needs_background": "light"
     },
     "output_type": "display_data"
    }
   ],
   "source": [
    "import seaborn as sns\n",
    "import time\n",
    "\n",
    "card_t['age'] = (pd.to_datetime(card_t['issued']) - pd.to_datetime(card_t['birth_date']))\n",
    "\n",
    "card_t['age1'] = card_t['age'].map(lambda x: x.days/365)# 办卡日期 减去 出生日期\n",
    "sns.boxplot(x='type', y='age1', data=card_t)"
   ]
  },
  {
   "cell_type": "markdown",
   "metadata": {},
   "source": [
    "### 不同类型卡的持卡人在办卡前一年内的平均账户余额对比"
   ]
  },
  {
   "cell_type": "code",
   "execution_count": 20,
   "metadata": {},
   "outputs": [
    {
     "name": "stderr",
     "output_type": "stream",
     "text": [
      "C:\\Users\\cyb\\Anaconda3\\envs\\py3\\lib\\site-packages\\IPython\\core\\interactiveshell.py:3020: DtypeWarning: Columns (8) have mixed types. Specify dtype option on import or set low_memory=False.\n",
      "  interactivity=interactivity, compiler=compiler, result=result)\n",
      "C:\\Users\\cyb\\Anaconda3\\envs\\py3\\lib\\site-packages\\pandas\\io\\sql.py:450: UserWarning: the 'timedelta' type is not supported, and will be written as integer values (ns frequency) to the database.\n",
      "  chunksize=chunksize, dtype=dtype)\n"
     ]
    }
   ],
   "source": [
    "trans = pd.read_csv('trans.csv', encoding='gbk')\n",
    "trans.to_sql('trans', con)\n",
    "card_t.to_sql('card_t', con)"
   ]
  },
  {
   "cell_type": "code",
   "execution_count": 22,
   "metadata": {},
   "outputs": [],
   "source": [
    "car_sql = '''\n",
    "select a.card_id,a.issued,a.type,c.type as t_type,c.amount,c.balance,c.date as t_date\n",
    "  from card as a\n",
    "  left join disp as b on a.disp_id=b.disp_id\n",
    "  left join trans as c on b.account_id=c.account_id\n",
    "  where b.type=\"所有者\"\n",
    "  order by a.card_id,c.date\n",
    "'''\n",
    "\n",
    "card_t2 = pd.read_sql(car_sql, con)"
   ]
  },
  {
   "cell_type": "code",
   "execution_count": 23,
   "metadata": {},
   "outputs": [],
   "source": [
    "card_t2['issued']=pd.to_datetime(card_t2['issued'])\n",
    "card_t2['t_date']=pd.to_datetime(card_t2['t_date'])"
   ]
  },
  {
   "cell_type": "code",
   "execution_count": 24,
   "metadata": {},
   "outputs": [
    {
     "data": {
      "text/html": [
       "<div>\n",
       "<style scoped>\n",
       "    .dataframe tbody tr th:only-of-type {\n",
       "        vertical-align: middle;\n",
       "    }\n",
       "\n",
       "    .dataframe tbody tr th {\n",
       "        vertical-align: top;\n",
       "    }\n",
       "\n",
       "    .dataframe thead th {\n",
       "        text-align: right;\n",
       "    }\n",
       "</style>\n",
       "<table border=\"1\" class=\"dataframe\">\n",
       "  <thead>\n",
       "    <tr style=\"text-align: right;\">\n",
       "      <th></th>\n",
       "      <th>card_id</th>\n",
       "      <th>issued</th>\n",
       "      <th>type</th>\n",
       "      <th>t_type</th>\n",
       "      <th>amount</th>\n",
       "      <th>balance</th>\n",
       "      <th>t_date</th>\n",
       "    </tr>\n",
       "  </thead>\n",
       "  <tbody>\n",
       "    <tr>\n",
       "      <th>0</th>\n",
       "      <td>1</td>\n",
       "      <td>1998-10-16</td>\n",
       "      <td>金卡</td>\n",
       "      <td>贷</td>\n",
       "      <td>$900</td>\n",
       "      <td>$900</td>\n",
       "      <td>1996-11-24</td>\n",
       "    </tr>\n",
       "    <tr>\n",
       "      <th>1</th>\n",
       "      <td>1</td>\n",
       "      <td>1998-10-16</td>\n",
       "      <td>金卡</td>\n",
       "      <td>贷</td>\n",
       "      <td>$33975</td>\n",
       "      <td>$34875</td>\n",
       "      <td>1996-12-07</td>\n",
       "    </tr>\n",
       "    <tr>\n",
       "      <th>2</th>\n",
       "      <td>1</td>\n",
       "      <td>1998-10-16</td>\n",
       "      <td>金卡</td>\n",
       "      <td>借</td>\n",
       "      <td>$6,600</td>\n",
       "      <td>$28275</td>\n",
       "      <td>1996-12-24</td>\n",
       "    </tr>\n",
       "    <tr>\n",
       "      <th>3</th>\n",
       "      <td>1</td>\n",
       "      <td>1998-10-16</td>\n",
       "      <td>金卡</td>\n",
       "      <td>贷</td>\n",
       "      <td>$30</td>\n",
       "      <td>$28305</td>\n",
       "      <td>1996-12-31</td>\n",
       "    </tr>\n",
       "    <tr>\n",
       "      <th>4</th>\n",
       "      <td>1</td>\n",
       "      <td>1998-10-16</td>\n",
       "      <td>金卡</td>\n",
       "      <td>贷</td>\n",
       "      <td>$22650</td>\n",
       "      <td>$50955</td>\n",
       "      <td>1997-01-07</td>\n",
       "    </tr>\n",
       "  </tbody>\n",
       "</table>\n",
       "</div>"
      ],
      "text/plain": [
       "   card_id     issued type t_type  amount balance     t_date\n",
       "0        1 1998-10-16   金卡      贷    $900    $900 1996-11-24\n",
       "1        1 1998-10-16   金卡      贷  $33975  $34875 1996-12-07\n",
       "2        1 1998-10-16   金卡      借  $6,600  $28275 1996-12-24\n",
       "3        1 1998-10-16   金卡      贷     $30  $28305 1996-12-31\n",
       "4        1 1998-10-16   金卡      贷  $22650  $50955 1997-01-07"
      ]
     },
     "execution_count": 24,
     "metadata": {},
     "output_type": "execute_result"
    }
   ],
   "source": [
    "card_t2.head()"
   ]
  },
  {
   "cell_type": "code",
   "execution_count": 26,
   "metadata": {},
   "outputs": [],
   "source": [
    "import datetime\n",
    "\n",
    "card_t2['balance2'] = card_t2['balance'].map(lambda x: int(''.join(x[1:].split(','))))\n",
    "card_t2['amount2'] = card_t2['amount'].map(lambda x: int(''.join(x[1:].split(','))))"
   ]
  },
  {
   "cell_type": "code",
   "execution_count": 27,
   "metadata": {},
   "outputs": [
    {
     "data": {
      "text/html": [
       "<div>\n",
       "<style scoped>\n",
       "    .dataframe tbody tr th:only-of-type {\n",
       "        vertical-align: middle;\n",
       "    }\n",
       "\n",
       "    .dataframe tbody tr th {\n",
       "        vertical-align: top;\n",
       "    }\n",
       "\n",
       "    .dataframe thead th {\n",
       "        text-align: right;\n",
       "    }\n",
       "</style>\n",
       "<table border=\"1\" class=\"dataframe\">\n",
       "  <thead>\n",
       "    <tr style=\"text-align: right;\">\n",
       "      <th></th>\n",
       "      <th>card_id</th>\n",
       "      <th>issued</th>\n",
       "      <th>type</th>\n",
       "      <th>t_type</th>\n",
       "      <th>amount</th>\n",
       "      <th>balance</th>\n",
       "      <th>t_date</th>\n",
       "      <th>balance2</th>\n",
       "      <th>amount2</th>\n",
       "    </tr>\n",
       "  </thead>\n",
       "  <tbody>\n",
       "    <tr>\n",
       "      <th>0</th>\n",
       "      <td>1</td>\n",
       "      <td>1998-10-16</td>\n",
       "      <td>金卡</td>\n",
       "      <td>贷</td>\n",
       "      <td>$900</td>\n",
       "      <td>$900</td>\n",
       "      <td>1996-11-24</td>\n",
       "      <td>900</td>\n",
       "      <td>900</td>\n",
       "    </tr>\n",
       "    <tr>\n",
       "      <th>1</th>\n",
       "      <td>1</td>\n",
       "      <td>1998-10-16</td>\n",
       "      <td>金卡</td>\n",
       "      <td>贷</td>\n",
       "      <td>$33975</td>\n",
       "      <td>$34875</td>\n",
       "      <td>1996-12-07</td>\n",
       "      <td>34875</td>\n",
       "      <td>33975</td>\n",
       "    </tr>\n",
       "    <tr>\n",
       "      <th>2</th>\n",
       "      <td>1</td>\n",
       "      <td>1998-10-16</td>\n",
       "      <td>金卡</td>\n",
       "      <td>借</td>\n",
       "      <td>$6,600</td>\n",
       "      <td>$28275</td>\n",
       "      <td>1996-12-24</td>\n",
       "      <td>28275</td>\n",
       "      <td>6600</td>\n",
       "    </tr>\n",
       "    <tr>\n",
       "      <th>3</th>\n",
       "      <td>1</td>\n",
       "      <td>1998-10-16</td>\n",
       "      <td>金卡</td>\n",
       "      <td>贷</td>\n",
       "      <td>$30</td>\n",
       "      <td>$28305</td>\n",
       "      <td>1996-12-31</td>\n",
       "      <td>28305</td>\n",
       "      <td>30</td>\n",
       "    </tr>\n",
       "    <tr>\n",
       "      <th>4</th>\n",
       "      <td>1</td>\n",
       "      <td>1998-10-16</td>\n",
       "      <td>金卡</td>\n",
       "      <td>贷</td>\n",
       "      <td>$22650</td>\n",
       "      <td>$50955</td>\n",
       "      <td>1997-01-07</td>\n",
       "      <td>50955</td>\n",
       "      <td>22650</td>\n",
       "    </tr>\n",
       "  </tbody>\n",
       "</table>\n",
       "</div>"
      ],
      "text/plain": [
       "   card_id     issued type t_type  amount balance     t_date  balance2  \\\n",
       "0        1 1998-10-16   金卡      贷    $900    $900 1996-11-24       900   \n",
       "1        1 1998-10-16   金卡      贷  $33975  $34875 1996-12-07     34875   \n",
       "2        1 1998-10-16   金卡      借  $6,600  $28275 1996-12-24     28275   \n",
       "3        1 1998-10-16   金卡      贷     $30  $28305 1996-12-31     28305   \n",
       "4        1 1998-10-16   金卡      贷  $22650  $50955 1997-01-07     50955   \n",
       "\n",
       "   amount2  \n",
       "0      900  \n",
       "1    33975  \n",
       "2     6600  \n",
       "3       30  \n",
       "4    22650  "
      ]
     },
     "execution_count": 27,
     "metadata": {},
     "output_type": "execute_result"
    }
   ],
   "source": [
    "card_t2.head()"
   ]
  },
  {
   "cell_type": "code",
   "execution_count": 30,
   "metadata": {},
   "outputs": [
    {
     "name": "stderr",
     "output_type": "stream",
     "text": [
      "C:\\Users\\cyb\\Anaconda3\\envs\\py3\\lib\\site-packages\\ipykernel_launcher.py:2: UserWarning: Boolean Series key will be reindexed to match DataFrame index.\n",
      "  \n"
     ]
    }
   ],
   "source": [
    "# 只取办卡前一年的信息，称为观察窗口，平均账户余额和平均收入\n",
    "card_t3 = card_t2[card_t2.issued>card_t2.t_date][card_t2.issued<card_t2.t_date+datetime.timedelta(days=365)]\n",
    "\n",
    "card_t4 = card_t3.groupby(['type', 'card_id'])['balance2'].agg([('avg_balance', 'mean')])\n",
    "# 另一种写法\n",
    "# card_t3[\"avg_balance\"] = card_t3.groupby('card_id')['balance2'].mean()\n",
    "card_t4.to_sql('card_t4', con)"
   ]
  },
  {
   "cell_type": "code",
   "execution_count": 35,
   "metadata": {},
   "outputs": [
    {
     "data": {
      "text/html": [
       "<div>\n",
       "<style scoped>\n",
       "    .dataframe tbody tr th:only-of-type {\n",
       "        vertical-align: middle;\n",
       "    }\n",
       "\n",
       "    .dataframe tbody tr th {\n",
       "        vertical-align: top;\n",
       "    }\n",
       "\n",
       "    .dataframe thead th {\n",
       "        text-align: right;\n",
       "    }\n",
       "</style>\n",
       "<table border=\"1\" class=\"dataframe\">\n",
       "  <thead>\n",
       "    <tr style=\"text-align: right;\">\n",
       "      <th></th>\n",
       "      <th></th>\n",
       "      <th>avg_balance</th>\n",
       "    </tr>\n",
       "    <tr>\n",
       "      <th>type</th>\n",
       "      <th>card_id</th>\n",
       "      <th></th>\n",
       "    </tr>\n",
       "  </thead>\n",
       "  <tbody>\n",
       "    <tr>\n",
       "      <th rowspan=\"5\" valign=\"top\">普通卡</th>\n",
       "      <th>2</th>\n",
       "      <td>38898.610169</td>\n",
       "    </tr>\n",
       "    <tr>\n",
       "      <th>4</th>\n",
       "      <td>54222.060976</td>\n",
       "    </tr>\n",
       "    <tr>\n",
       "      <th>7</th>\n",
       "      <td>46888.702381</td>\n",
       "    </tr>\n",
       "    <tr>\n",
       "      <th>9</th>\n",
       "      <td>55854.223881</td>\n",
       "    </tr>\n",
       "    <tr>\n",
       "      <th>10</th>\n",
       "      <td>51387.500000</td>\n",
       "    </tr>\n",
       "  </tbody>\n",
       "</table>\n",
       "</div>"
      ],
      "text/plain": [
       "               avg_balance\n",
       "type card_id              \n",
       "普通卡  2        38898.610169\n",
       "     4        54222.060976\n",
       "     7        46888.702381\n",
       "     9        55854.223881\n",
       "     10       51387.500000"
      ]
     },
     "execution_count": 35,
     "metadata": {},
     "output_type": "execute_result"
    }
   ],
   "source": [
    "card_t4.head()"
   ]
  },
  {
   "cell_type": "code",
   "execution_count": 38,
   "metadata": {},
   "outputs": [],
   "source": [
    "# 需要变成明细表的样式\n",
    "card_t5 = card_t4.reset_index()"
   ]
  },
  {
   "cell_type": "code",
   "execution_count": 39,
   "metadata": {},
   "outputs": [
    {
     "data": {
      "text/html": [
       "<div>\n",
       "<style scoped>\n",
       "    .dataframe tbody tr th:only-of-type {\n",
       "        vertical-align: middle;\n",
       "    }\n",
       "\n",
       "    .dataframe tbody tr th {\n",
       "        vertical-align: top;\n",
       "    }\n",
       "\n",
       "    .dataframe thead th {\n",
       "        text-align: right;\n",
       "    }\n",
       "</style>\n",
       "<table border=\"1\" class=\"dataframe\">\n",
       "  <thead>\n",
       "    <tr style=\"text-align: right;\">\n",
       "      <th></th>\n",
       "      <th>type</th>\n",
       "      <th>card_id</th>\n",
       "      <th>avg_balance</th>\n",
       "    </tr>\n",
       "  </thead>\n",
       "  <tbody>\n",
       "    <tr>\n",
       "      <th>0</th>\n",
       "      <td>普通卡</td>\n",
       "      <td>2</td>\n",
       "      <td>38898.610169</td>\n",
       "    </tr>\n",
       "    <tr>\n",
       "      <th>1</th>\n",
       "      <td>普通卡</td>\n",
       "      <td>4</td>\n",
       "      <td>54222.060976</td>\n",
       "    </tr>\n",
       "    <tr>\n",
       "      <th>2</th>\n",
       "      <td>普通卡</td>\n",
       "      <td>7</td>\n",
       "      <td>46888.702381</td>\n",
       "    </tr>\n",
       "    <tr>\n",
       "      <th>3</th>\n",
       "      <td>普通卡</td>\n",
       "      <td>9</td>\n",
       "      <td>55854.223881</td>\n",
       "    </tr>\n",
       "    <tr>\n",
       "      <th>4</th>\n",
       "      <td>普通卡</td>\n",
       "      <td>10</td>\n",
       "      <td>51387.500000</td>\n",
       "    </tr>\n",
       "  </tbody>\n",
       "</table>\n",
       "</div>"
      ],
      "text/plain": [
       "  type  card_id   avg_balance\n",
       "0  普通卡        2  38898.610169\n",
       "1  普通卡        4  54222.060976\n",
       "2  普通卡        7  46888.702381\n",
       "3  普通卡        9  55854.223881\n",
       "4  普通卡       10  51387.500000"
      ]
     },
     "execution_count": 39,
     "metadata": {},
     "output_type": "execute_result"
    }
   ],
   "source": [
    "card_t5.head()"
   ]
  },
  {
   "cell_type": "code",
   "execution_count": 42,
   "metadata": {},
   "outputs": [
    {
     "data": {
      "text/plain": [
       "<matplotlib.axes._subplots.AxesSubplot at 0x273d6877c18>"
      ]
     },
     "execution_count": 42,
     "metadata": {},
     "output_type": "execute_result"
    },
    {
     "data": {
      "image/png": "[encoded data removed]",
      "text/plain": [
       "<Figure size 432x288 with 1 Axes>"
      ]
     },
     "metadata": {
      "needs_background": "light"
     },
     "output_type": "display_data"
    }
   ],
   "source": [
    "# 金卡平均账户余额较高\n",
    "sns.boxplot(x='type', y='avg_balance', data=card_t5)"
   ]
  },
  {
   "cell_type": "markdown",
   "metadata": {},
   "source": [
    "### 不同类型卡的持卡人在办卡前一年内的平均收入对比"
   ]
  },
  {
   "cell_type": "code",
   "execution_count": 43,
   "metadata": {},
   "outputs": [
    {
     "data": {
      "text/html": [
       "<div>\n",
       "<style scoped>\n",
       "    .dataframe tbody tr th:only-of-type {\n",
       "        vertical-align: middle;\n",
       "    }\n",
       "\n",
       "    .dataframe tbody tr th {\n",
       "        vertical-align: top;\n",
       "    }\n",
       "\n",
       "    .dataframe thead th {\n",
       "        text-align: right;\n",
       "    }\n",
       "</style>\n",
       "<table border=\"1\" class=\"dataframe\">\n",
       "  <thead>\n",
       "    <tr style=\"text-align: right;\">\n",
       "      <th></th>\n",
       "      <th>card_id</th>\n",
       "      <th>issued</th>\n",
       "      <th>type</th>\n",
       "      <th>t_type</th>\n",
       "      <th>amount</th>\n",
       "      <th>balance</th>\n",
       "      <th>t_date</th>\n",
       "      <th>balance2</th>\n",
       "      <th>amount2</th>\n",
       "    </tr>\n",
       "  </thead>\n",
       "  <tbody>\n",
       "    <tr>\n",
       "      <th>47</th>\n",
       "      <td>1</td>\n",
       "      <td>1998-10-16</td>\n",
       "      <td>金卡</td>\n",
       "      <td>借</td>\n",
       "      <td>$13600</td>\n",
       "      <td>$57950</td>\n",
       "      <td>1997-10-20</td>\n",
       "      <td>57950</td>\n",
       "      <td>13600</td>\n",
       "    </tr>\n",
       "    <tr>\n",
       "      <th>48</th>\n",
       "      <td>1</td>\n",
       "      <td>1998-10-16</td>\n",
       "      <td>金卡</td>\n",
       "      <td>借</td>\n",
       "      <td>$15</td>\n",
       "      <td>$58197</td>\n",
       "      <td>1997-10-31</td>\n",
       "      <td>58197</td>\n",
       "      <td>15</td>\n",
       "    </tr>\n",
       "    <tr>\n",
       "      <th>49</th>\n",
       "      <td>1</td>\n",
       "      <td>1998-10-16</td>\n",
       "      <td>金卡</td>\n",
       "      <td>贷</td>\n",
       "      <td>$262</td>\n",
       "      <td>$58212</td>\n",
       "      <td>1997-10-31</td>\n",
       "      <td>58212</td>\n",
       "      <td>262</td>\n",
       "    </tr>\n",
       "    <tr>\n",
       "      <th>50</th>\n",
       "      <td>1</td>\n",
       "      <td>1998-10-16</td>\n",
       "      <td>金卡</td>\n",
       "      <td>借</td>\n",
       "      <td>$4,880</td>\n",
       "      <td>$53317</td>\n",
       "      <td>1997-11-06</td>\n",
       "      <td>53317</td>\n",
       "      <td>4880</td>\n",
       "    </tr>\n",
       "    <tr>\n",
       "      <th>51</th>\n",
       "      <td>1</td>\n",
       "      <td>1998-10-16</td>\n",
       "      <td>金卡</td>\n",
       "      <td>贷</td>\n",
       "      <td>$22650</td>\n",
       "      <td>$75967</td>\n",
       "      <td>1997-11-07</td>\n",
       "      <td>75967</td>\n",
       "      <td>22650</td>\n",
       "    </tr>\n",
       "  </tbody>\n",
       "</table>\n",
       "</div>"
      ],
      "text/plain": [
       "    card_id     issued type t_type  amount balance     t_date  balance2  \\\n",
       "47        1 1998-10-16   金卡      借  $13600  $57950 1997-10-20     57950   \n",
       "48        1 1998-10-16   金卡      借     $15  $58197 1997-10-31     58197   \n",
       "49        1 1998-10-16   金卡      贷    $262  $58212 1997-10-31     58212   \n",
       "50        1 1998-10-16   金卡      借  $4,880  $53317 1997-11-06     53317   \n",
       "51        1 1998-10-16   金卡      贷  $22650  $75967 1997-11-07     75967   \n",
       "\n",
       "    amount2  \n",
       "47    13600  \n",
       "48       15  \n",
       "49      262  \n",
       "50     4880  \n",
       "51    22650  "
      ]
     },
     "execution_count": 43,
     "metadata": {},
     "output_type": "execute_result"
    }
   ],
   "source": [
    "card_t3.head()"
   ]
  },
  {
   "cell_type": "code",
   "execution_count": 47,
   "metadata": {},
   "outputs": [],
   "source": [
    "type_dict = {'借':'out','贷':'income'}\n",
    "card_t3['type1'] = card_t3.t_type.map(type_dict)\n",
    "card_t6= card_t3.groupby(['type','card_id','type1'])[['amount2']].sum()\n",
    "card_t6.to_sql('card_t6', con)"
   ]
  },
  {
   "cell_type": "code",
   "execution_count": 48,
   "metadata": {},
   "outputs": [
    {
     "data": {
      "text/plain": [
       "<matplotlib.axes._subplots.AxesSubplot at 0x273d687b358>"
      ]
     },
     "execution_count": 48,
     "metadata": {},
     "output_type": "execute_result"
    },
    {
     "data": {
      "image/png": "[encoded data removed]",
      "text/plain": [
       "<Figure size 432x288 with 1 Axes>"
      ]
     },
     "metadata": {
      "needs_background": "light"
     },
     "output_type": "display_data"
    }
   ],
   "source": [
    "card_t7=card_t6.reset_index()\n",
    "#card_t7=pd.read_sql('select * from card_t6', con)\n",
    "card_t7.to_sql('card_t7', con)\n",
    "card_t8=pd.read_sql('select * from card_t7 where type1=\"income\"', con)# 收入\n",
    "# In[13]:\n",
    "sns.boxplot(x = 'type', y = 'amount2', data = card_t8)"
   ]
  },
  {
   "cell_type": "code",
   "execution_count": 50,
   "metadata": {},
   "outputs": [
    {
     "data": {
      "text/plain": [
       "<matplotlib.axes._subplots.AxesSubplot at 0x273d099ea20>"
      ]
     },
     "execution_count": 50,
     "metadata": {},
     "output_type": "execute_result"
    },
    {
     "data": {
      "image/png": "[encoded data removed]",
      "text/plain": [
       "<Figure size 432x288 with 1 Axes>"
      ]
     },
     "metadata": {
      "needs_background": "light"
     },
     "output_type": "display_data"
    }
   ],
   "source": [
    "card_t9=pd.read_sql('select * from card_t7 where type1=\"out\"', con)\n",
    "sns.boxplot(x = 'type', y = 'amount2', data = card_t9)"
   ]
  },
  {
   "cell_type": "code",
   "execution_count": null,
   "metadata": {},
   "outputs": [],
   "source": []
  }
 ],
 "metadata": {
  "kernelspec": {
   "display_name": "Python 3",
   "language": "python",
   "name": "python3"
  },
  "language_info": {
   "codemirror_mode": {
    "name": "ipython",
    "version": 3
   },
   "file_extension": ".py",
   "mimetype": "text/x-python",
   "name": "python",
   "nbconvert_exporter": "python",
   "pygments_lexer": "ipython3",
   "version": "3.6.7"
  }
 },
 "nbformat": 4,
 "nbformat_minor": 2
}
