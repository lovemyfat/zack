{
 "cells": [
  {
   "cell_type": "markdown",
   "metadata": {},
   "source": [
    "### 发现数据问题"
   ]
  },
  {
   "cell_type": "markdown",
   "metadata": {},
   "source": [
    "1. 脏数据或数据不正确\n",
    "2. 数据不一致（单位不一致）\n",
    "3. 数据重复\n",
    "4. 缺失值\n",
    "5. 离群值（姚明身高）"
   ]
  },
  {
   "cell_type": "markdown",
   "metadata": {},
   "source": [
    "### 数据探索识别噪音<br />利用图形可以快速的对数据进行初步分析\n",
    "1. 连续型变量： 直方图，盒型图\n",
    "2. 离散型变量： 直方图，饼图"
   ]
  },
  {
   "cell_type": "markdown",
   "metadata": {},
   "source": [
    "### 错误值处理方法\n",
    "1. 用缺失值替代\n",
    "2. 改对（成本较高）"
   ]
  },
  {
   "cell_type": "markdown",
   "metadata": {},
   "source": [
    "### 缺失值处理方法\n",
    "#### 首选基于业务的填补方法，其次根据单变量分析进行填补\n",
    "#### 多重插补进行所有变量统一填补的方法，只有在粗略清洗时才会使用（建模时候模型越不精确越好，不会过拟合）\n",
    "1. 缺失值小于20% <br /> 连续变量使用均值或中位数填补 <br /> 分类变量不需要填补，单算一类即可，或者用众数填补\n",
    "2. 缺失值小于20%-80% <br /> 填补方法同上 <br /> 另外每个有缺失值的变量生成一个指示哑变量，参与后续的建模\n",
    "3. 缺失值大于80% <br /> 每个有缺失值的变量生成一个指示哑变量，参与后续的建模，原始变量不使用"
   ]
  },
  {
   "cell_type": "markdown",
   "metadata": {},
   "source": [
    "### 处理原则<br />填补 + 指示变量"
   ]
  },
  {
   "cell_type": "markdown",
   "metadata": {},
   "source": [
    "### 单变量离群值发现\n",
    "1. 删除\n",
    "2. 盖帽法（正态分布1%用99%的去替代）\n",
    "3. 分箱（等深分箱，样本量一定，和等宽分箱， 间距一定）"
   ]
  },
  {
   "cell_type": "markdown",
   "metadata": {},
   "source": [
    "1. 极端值\n",
    " - 设置标准，如：5倍标准处之外的数据\n",
    " - 极值有时候意味着错误，应重新理解数据，例如：特殊用户的超大额消费\n",
    "2. 离群值\n",
    " - 平均值法：平均值± n 倍标准差之外的数据\n",
    "     建议的临界值：\n",
    "      - |SR| > 2，用于观察值较少的数据集\n",
    "      - |SR| > 3，用于观察值较多的数据集\n",
    " - 四分位数法：\n",
    " - IQR = Q3 - Q1\n",
    " - Q1 - 1.5 * IQR -- Q3 + 1.5 * IQR # 更适合对称分布的数据"
   ]
  },
  {
   "cell_type": "markdown",
   "metadata": {},
   "source": [
    "# 数据整理"
   ]
  },
  {
   "cell_type": "markdown",
   "metadata": {},
   "source": [
    "### 分析客户价值的一个实例<p>\n",
    "    RFM模型 之前有文章写过具体例子"
   ]
  },
  {
   "cell_type": "markdown",
   "metadata": {},
   "source": [
    "### 抽样方法\n",
    " -  随机抽样\n",
    " - 分层抽样（基本采用的方式）"
   ]
  },
  {
   "cell_type": "code",
   "execution_count": null,
   "metadata": {},
   "outputs": [],
   "source": []
  }
 ],
 "metadata": {
  "kernelspec": {
   "display_name": "Python 3",
   "language": "python",
   "name": "python3"
  },
  "language_info": {
   "codemirror_mode": {
    "name": "ipython",
    "version": 3
   },
   "file_extension": ".py",
   "mimetype": "text/x-python",
   "name": "python",
   "nbconvert_exporter": "python",
   "pygments_lexer": "ipython3",
   "version": "3.6.7"
  }
 },
 "nbformat": 4,
 "nbformat_minor": 2
}
