{
 "cells": [
  {
   "cell_type": "code",
   "execution_count": 1,
   "metadata": {},
   "outputs": [],
   "source": [
    "import numpy as np\n",
    "import os\n",
    "import pandas as pd"
   ]
  },
  {
   "cell_type": "code",
   "execution_count": 2,
   "metadata": {},
   "outputs": [],
   "source": [
    "os.chdir(r'C:/Users/cyb/ipnb/haha/280_Ben_八大直播八大案例配套课件/第三章/提交-第三讲：信用卡客户特征分析-产品客户画像初步/数据与脚本/5Preprocessing/')"
   ]
  },
  {
   "cell_type": "code",
   "execution_count": 3,
   "metadata": {},
   "outputs": [
    {
     "data": {
      "text/html": [
       "<div>\n",
       "<style scoped>\n",
       "    .dataframe tbody tr th:only-of-type {\n",
       "        vertical-align: middle;\n",
       "    }\n",
       "\n",
       "    .dataframe tbody tr th {\n",
       "        vertical-align: top;\n",
       "    }\n",
       "\n",
       "    .dataframe thead th {\n",
       "        text-align: right;\n",
       "    }\n",
       "</style>\n",
       "<table border=\"1\" class=\"dataframe\">\n",
       "  <thead>\n",
       "    <tr style=\"text-align: right;\">\n",
       "      <th></th>\n",
       "      <th>ID</th>\n",
       "      <th>Suc_flag</th>\n",
       "      <th>ARPU</th>\n",
       "      <th>PromCnt12</th>\n",
       "      <th>PromCnt36</th>\n",
       "      <th>PromCntMsg12</th>\n",
       "      <th>PromCntMsg36</th>\n",
       "      <th>Class</th>\n",
       "      <th>Age</th>\n",
       "      <th>Gender</th>\n",
       "      <th>HomeOwner</th>\n",
       "      <th>AvgARPU</th>\n",
       "      <th>AvgHomeValue</th>\n",
       "      <th>AvgIncome</th>\n",
       "    </tr>\n",
       "  </thead>\n",
       "  <tbody>\n",
       "    <tr>\n",
       "      <th>0</th>\n",
       "      <td>12</td>\n",
       "      <td>1</td>\n",
       "      <td>50.0</td>\n",
       "      <td>6</td>\n",
       "      <td>10</td>\n",
       "      <td>2</td>\n",
       "      <td>3</td>\n",
       "      <td>4</td>\n",
       "      <td>57.0</td>\n",
       "      <td>M</td>\n",
       "      <td>H</td>\n",
       "      <td>49.894904</td>\n",
       "      <td>33400</td>\n",
       "      <td>39460</td>\n",
       "    </tr>\n",
       "    <tr>\n",
       "      <th>1</th>\n",
       "      <td>53</td>\n",
       "      <td>0</td>\n",
       "      <td>NaN</td>\n",
       "      <td>5</td>\n",
       "      <td>9</td>\n",
       "      <td>1</td>\n",
       "      <td>4</td>\n",
       "      <td>3</td>\n",
       "      <td>55.0</td>\n",
       "      <td>M</td>\n",
       "      <td>H</td>\n",
       "      <td>48.574742</td>\n",
       "      <td>37600</td>\n",
       "      <td>33545</td>\n",
       "    </tr>\n",
       "    <tr>\n",
       "      <th>2</th>\n",
       "      <td>67</td>\n",
       "      <td>1</td>\n",
       "      <td>25.0</td>\n",
       "      <td>6</td>\n",
       "      <td>11</td>\n",
       "      <td>2</td>\n",
       "      <td>4</td>\n",
       "      <td>1</td>\n",
       "      <td>57.0</td>\n",
       "      <td>F</td>\n",
       "      <td>H</td>\n",
       "      <td>49.272646</td>\n",
       "      <td>100400</td>\n",
       "      <td>42091</td>\n",
       "    </tr>\n",
       "    <tr>\n",
       "      <th>3</th>\n",
       "      <td>71</td>\n",
       "      <td>1</td>\n",
       "      <td>80.0</td>\n",
       "      <td>7</td>\n",
       "      <td>10</td>\n",
       "      <td>2</td>\n",
       "      <td>4</td>\n",
       "      <td>1</td>\n",
       "      <td>52.0</td>\n",
       "      <td>F</td>\n",
       "      <td>H</td>\n",
       "      <td>47.334953</td>\n",
       "      <td>39900</td>\n",
       "      <td>39313</td>\n",
       "    </tr>\n",
       "    <tr>\n",
       "      <th>4</th>\n",
       "      <td>142</td>\n",
       "      <td>1</td>\n",
       "      <td>15.0</td>\n",
       "      <td>6</td>\n",
       "      <td>11</td>\n",
       "      <td>2</td>\n",
       "      <td>4</td>\n",
       "      <td>1</td>\n",
       "      <td>NaN</td>\n",
       "      <td>F</td>\n",
       "      <td>U</td>\n",
       "      <td>47.827404</td>\n",
       "      <td>47500</td>\n",
       "      <td>0</td>\n",
       "    </tr>\n",
       "  </tbody>\n",
       "</table>\n",
       "</div>"
      ],
      "text/plain": [
       "    ID  Suc_flag  ARPU  PromCnt12  PromCnt36  PromCntMsg12  PromCntMsg36  \\\n",
       "0   12         1  50.0          6         10             2             3   \n",
       "1   53         0   NaN          5          9             1             4   \n",
       "2   67         1  25.0          6         11             2             4   \n",
       "3   71         1  80.0          7         10             2             4   \n",
       "4  142         1  15.0          6         11             2             4   \n",
       "\n",
       "   Class   Age Gender HomeOwner    AvgARPU  AvgHomeValue  AvgIncome  \n",
       "0      4  57.0      M         H  49.894904         33400      39460  \n",
       "1      3  55.0      M         H  48.574742         37600      33545  \n",
       "2      1  57.0      F         H  49.272646        100400      42091  \n",
       "3      1  52.0      F         H  47.334953         39900      39313  \n",
       "4      1   NaN      F         U  47.827404         47500          0  "
      ]
     },
     "execution_count": 3,
     "metadata": {},
     "output_type": "execute_result"
    }
   ],
   "source": [
    "camp = pd.read_csv('teleco_camp_orig.csv')\n",
    "camp.head()"
   ]
  },
  {
   "cell_type": "code",
   "execution_count": 4,
   "metadata": {},
   "outputs": [],
   "source": [
    "import matplotlib.pyplot as plt"
   ]
  },
  {
   "cell_type": "code",
   "execution_count": 5,
   "metadata": {},
   "outputs": [
    {
     "data": {
      "text/plain": [
       "count      9686.000000\n",
       "mean      40491.444249\n",
       "std       28707.494146\n",
       "min           0.000000\n",
       "25%       24464.000000\n",
       "50%       43100.000000\n",
       "75%       56876.000000\n",
       "max      200001.000000\n",
       "Name: AvgIncome, dtype: float64"
      ]
     },
     "execution_count": 5,
     "metadata": {},
     "output_type": "execute_result"
    },
    {
     "data": {
      "image/png": "[encoded data removed]",
      "text/plain": [
       "<Figure size 432x288 with 1 Axes>"
      ]
     },
     "metadata": {
      "needs_background": "light"
     },
     "output_type": "display_data"
    }
   ],
   "source": [
    "plt.hist(camp['AvgIncome'], bins=20, density=True)\n",
    "camp['AvgIncome'].describe(include='all')\n",
    "# 最小值是 0 ，平均收入为 0 不符合常理，直方图中大部分是合理的，左偏，为 0 的明显是异常值"
   ]
  },
  {
   "cell_type": "code",
   "execution_count": 6,
   "metadata": {},
   "outputs": [
    {
     "name": "stderr",
     "output_type": "stream",
     "text": [
      "C:\\Users\\cyb\\Anaconda3\\envs\\py3\\lib\\site-packages\\numpy\\lib\\histograms.py:754: RuntimeWarning: invalid value encountered in greater_equal\n",
      "  keep = (tmp_a >= first_edge)\n",
      "C:\\Users\\cyb\\Anaconda3\\envs\\py3\\lib\\site-packages\\numpy\\lib\\histograms.py:755: RuntimeWarning: invalid value encountered in less_equal\n",
      "  keep &= (tmp_a <= last_edge)\n"
     ]
    },
    {
     "data": {
      "text/plain": [
       "count      7329.000000\n",
       "mean      53513.457361\n",
       "std       19805.168339\n",
       "min        2499.000000\n",
       "25%       40389.000000\n",
       "50%       48699.000000\n",
       "75%       62385.000000\n",
       "max      200001.000000\n",
       "Name: AvgIncome, dtype: float64"
      ]
     },
     "execution_count": 6,
     "metadata": {},
     "output_type": "execute_result"
    },
    {
     "data": {
      "image/png": "[encoded data removed]",
      "text/plain": [
       "<Figure size 432x288 with 1 Axes>"
      ]
     },
     "metadata": {
      "needs_background": "light"
     },
     "output_type": "display_data"
    }
   ],
   "source": [
    "# 将 0 替换为 nan\n",
    "camp['AvgIncome'] = camp['AvgIncome'].replace({0: np.nan})\n",
    "plt.hist(camp['AvgIncome'], bins=20, density=True, range=(camp.AvgIncome.min(), camp.AvgIncome.max()))\n",
    "camp['AvgIncome'].describe(include='all')"
   ]
  },
  {
   "cell_type": "code",
   "execution_count": 7,
   "metadata": {},
   "outputs": [
    {
     "data": {
      "text/plain": [
       "count      9686.000000\n",
       "mean     110986.299814\n",
       "std       98670.855450\n",
       "min           0.000000\n",
       "25%       52300.000000\n",
       "50%       76900.000000\n",
       "75%      128175.000000\n",
       "max      600000.000000\n",
       "Name: AvgHomeValue, dtype: float64"
      ]
     },
     "execution_count": 7,
     "metadata": {},
     "output_type": "execute_result"
    },
    {
     "data": {
      "image/png": "[encoded data removed]",
      "text/plain": [
       "<Figure size 432x288 with 1 Axes>"
      ]
     },
     "metadata": {
      "needs_background": "light"
     },
     "output_type": "display_data"
    }
   ],
   "source": [
    "plt.hist(camp['AvgHomeValue'], bins=20, density=True)#查看分布情况\n",
    "camp['AvgHomeValue'].describe(include='all')"
   ]
  },
  {
   "cell_type": "code",
   "execution_count": 8,
   "metadata": {},
   "outputs": [
    {
     "data": {
      "text/plain": [
       "count      9583.000000\n",
       "mean     112179.202755\n",
       "std       98522.888583\n",
       "min        7500.000000\n",
       "25%       53200.000000\n",
       "50%       77700.000000\n",
       "75%      129350.000000\n",
       "max      600000.000000\n",
       "Name: AvgHomeValue, dtype: float64"
      ]
     },
     "execution_count": 8,
     "metadata": {},
     "output_type": "execute_result"
    },
    {
     "data": {
      "image/png": "[encoded data removed]",
      "text/plain": [
       "<Figure size 432x288 with 1 Axes>"
      ]
     },
     "metadata": {
      "needs_background": "light"
     },
     "output_type": "display_data"
    }
   ],
   "source": [
    "camp['AvgHomeValue'] = camp['AvgHomeValue'].replace({0: np.nan})\n",
    "plt.hist(camp['AvgHomeValue'], bins=20, density=True, range=(camp.AvgHomeValue.min(),camp.AvgHomeValue.max()))\n",
    "# 由于数据存在缺失值，需要制定绘图的区域\n",
    "camp['AvgHomeValue'].describe(include='all')"
   ]
  },
  {
   "cell_type": "code",
   "execution_count": 11,
   "metadata": {},
   "outputs": [
    {
     "data": {
      "text/plain": [
       "0"
      ]
     },
     "execution_count": 11,
     "metadata": {},
     "output_type": "execute_result"
    }
   ],
   "source": [
    "camp['dup'] = camp.duplicated()\n",
    "camp.dup.sum()"
   ]
  },
  {
   "cell_type": "code",
   "execution_count": 12,
   "metadata": {},
   "outputs": [
    {
     "data": {
      "text/html": [
       "<div>\n",
       "<style scoped>\n",
       "    .dataframe tbody tr th:only-of-type {\n",
       "        vertical-align: middle;\n",
       "    }\n",
       "\n",
       "    .dataframe tbody tr th {\n",
       "        vertical-align: top;\n",
       "    }\n",
       "\n",
       "    .dataframe thead th {\n",
       "        text-align: right;\n",
       "    }\n",
       "</style>\n",
       "<table border=\"1\" class=\"dataframe\">\n",
       "  <thead>\n",
       "    <tr style=\"text-align: right;\">\n",
       "      <th></th>\n",
       "      <th>ID</th>\n",
       "      <th>Suc_flag</th>\n",
       "      <th>ARPU</th>\n",
       "      <th>PromCnt12</th>\n",
       "      <th>PromCnt36</th>\n",
       "      <th>PromCntMsg12</th>\n",
       "      <th>PromCntMsg36</th>\n",
       "      <th>Class</th>\n",
       "      <th>Age</th>\n",
       "      <th>Gender</th>\n",
       "      <th>HomeOwner</th>\n",
       "      <th>AvgARPU</th>\n",
       "      <th>AvgHomeValue</th>\n",
       "      <th>AvgIncome</th>\n",
       "      <th>dup</th>\n",
       "    </tr>\n",
       "  </thead>\n",
       "  <tbody>\n",
       "    <tr>\n",
       "      <th>0</th>\n",
       "      <td>12</td>\n",
       "      <td>1</td>\n",
       "      <td>50.0</td>\n",
       "      <td>6</td>\n",
       "      <td>10</td>\n",
       "      <td>2</td>\n",
       "      <td>3</td>\n",
       "      <td>4</td>\n",
       "      <td>57.0</td>\n",
       "      <td>M</td>\n",
       "      <td>H</td>\n",
       "      <td>49.894904</td>\n",
       "      <td>33400.0</td>\n",
       "      <td>39460.0</td>\n",
       "      <td>False</td>\n",
       "    </tr>\n",
       "    <tr>\n",
       "      <th>1</th>\n",
       "      <td>53</td>\n",
       "      <td>0</td>\n",
       "      <td>NaN</td>\n",
       "      <td>5</td>\n",
       "      <td>9</td>\n",
       "      <td>1</td>\n",
       "      <td>4</td>\n",
       "      <td>3</td>\n",
       "      <td>55.0</td>\n",
       "      <td>M</td>\n",
       "      <td>H</td>\n",
       "      <td>48.574742</td>\n",
       "      <td>37600.0</td>\n",
       "      <td>33545.0</td>\n",
       "      <td>False</td>\n",
       "    </tr>\n",
       "    <tr>\n",
       "      <th>2</th>\n",
       "      <td>67</td>\n",
       "      <td>1</td>\n",
       "      <td>25.0</td>\n",
       "      <td>6</td>\n",
       "      <td>11</td>\n",
       "      <td>2</td>\n",
       "      <td>4</td>\n",
       "      <td>1</td>\n",
       "      <td>57.0</td>\n",
       "      <td>F</td>\n",
       "      <td>H</td>\n",
       "      <td>49.272646</td>\n",
       "      <td>100400.0</td>\n",
       "      <td>42091.0</td>\n",
       "      <td>False</td>\n",
       "    </tr>\n",
       "    <tr>\n",
       "      <th>3</th>\n",
       "      <td>71</td>\n",
       "      <td>1</td>\n",
       "      <td>80.0</td>\n",
       "      <td>7</td>\n",
       "      <td>10</td>\n",
       "      <td>2</td>\n",
       "      <td>4</td>\n",
       "      <td>1</td>\n",
       "      <td>52.0</td>\n",
       "      <td>F</td>\n",
       "      <td>H</td>\n",
       "      <td>47.334953</td>\n",
       "      <td>39900.0</td>\n",
       "      <td>39313.0</td>\n",
       "      <td>False</td>\n",
       "    </tr>\n",
       "    <tr>\n",
       "      <th>4</th>\n",
       "      <td>142</td>\n",
       "      <td>1</td>\n",
       "      <td>15.0</td>\n",
       "      <td>6</td>\n",
       "      <td>11</td>\n",
       "      <td>2</td>\n",
       "      <td>4</td>\n",
       "      <td>1</td>\n",
       "      <td>NaN</td>\n",
       "      <td>F</td>\n",
       "      <td>U</td>\n",
       "      <td>47.827404</td>\n",
       "      <td>47500.0</td>\n",
       "      <td>NaN</td>\n",
       "      <td>False</td>\n",
       "    </tr>\n",
       "  </tbody>\n",
       "</table>\n",
       "</div>"
      ],
      "text/plain": [
       "    ID  Suc_flag  ARPU  PromCnt12  PromCnt36  PromCntMsg12  PromCntMsg36  \\\n",
       "0   12         1  50.0          6         10             2             3   \n",
       "1   53         0   NaN          5          9             1             4   \n",
       "2   67         1  25.0          6         11             2             4   \n",
       "3   71         1  80.0          7         10             2             4   \n",
       "4  142         1  15.0          6         11             2             4   \n",
       "\n",
       "   Class   Age Gender HomeOwner    AvgARPU  AvgHomeValue  AvgIncome    dup  \n",
       "0      4  57.0      M         H  49.894904       33400.0    39460.0  False  \n",
       "1      3  55.0      M         H  48.574742       37600.0    33545.0  False  \n",
       "2      1  57.0      F         H  49.272646      100400.0    42091.0  False  \n",
       "3      1  52.0      F         H  47.334953       39900.0    39313.0  False  \n",
       "4      1   NaN      F         U  47.827404       47500.0        NaN  False  "
      ]
     },
     "execution_count": 12,
     "metadata": {},
     "output_type": "execute_result"
    }
   ],
   "source": [
    "camp_dup = camp[camp['dup'] == True]\n",
    "camp_nodup = camp[camp['dup'] == False]\n",
    "camp_nodup.head()"
   ]
  },
  {
   "cell_type": "code",
   "execution_count": 13,
   "metadata": {},
   "outputs": [
    {
     "data": {
      "text/html": [
       "<div>\n",
       "<style scoped>\n",
       "    .dataframe tbody tr th:only-of-type {\n",
       "        vertical-align: middle;\n",
       "    }\n",
       "\n",
       "    .dataframe tbody tr th {\n",
       "        vertical-align: top;\n",
       "    }\n",
       "\n",
       "    .dataframe thead th {\n",
       "        text-align: right;\n",
       "    }\n",
       "</style>\n",
       "<table border=\"1\" class=\"dataframe\">\n",
       "  <thead>\n",
       "    <tr style=\"text-align: right;\">\n",
       "      <th></th>\n",
       "      <th>ID</th>\n",
       "      <th>Suc_flag</th>\n",
       "      <th>ARPU</th>\n",
       "      <th>PromCnt12</th>\n",
       "      <th>PromCnt36</th>\n",
       "      <th>PromCntMsg12</th>\n",
       "      <th>PromCntMsg36</th>\n",
       "      <th>Class</th>\n",
       "      <th>Age</th>\n",
       "      <th>AvgARPU</th>\n",
       "      <th>AvgHomeValue</th>\n",
       "      <th>AvgIncome</th>\n",
       "    </tr>\n",
       "  </thead>\n",
       "  <tbody>\n",
       "    <tr>\n",
       "      <th>count</th>\n",
       "      <td>9686.000000</td>\n",
       "      <td>9686.000000</td>\n",
       "      <td>4843.000000</td>\n",
       "      <td>9686.000000</td>\n",
       "      <td>9686.000000</td>\n",
       "      <td>9686.000000</td>\n",
       "      <td>9686.000000</td>\n",
       "      <td>9686.000000</td>\n",
       "      <td>7279.000000</td>\n",
       "      <td>9686.000000</td>\n",
       "      <td>9583.000000</td>\n",
       "      <td>7329.000000</td>\n",
       "    </tr>\n",
       "    <tr>\n",
       "      <th>mean</th>\n",
       "      <td>97975.474086</td>\n",
       "      <td>0.500000</td>\n",
       "      <td>78.121722</td>\n",
       "      <td>3.495251</td>\n",
       "      <td>7.466963</td>\n",
       "      <td>1.034586</td>\n",
       "      <td>2.323044</td>\n",
       "      <td>2.424530</td>\n",
       "      <td>49.567386</td>\n",
       "      <td>52.905156</td>\n",
       "      <td>112179.202755</td>\n",
       "      <td>53513.457361</td>\n",
       "    </tr>\n",
       "    <tr>\n",
       "      <th>std</th>\n",
       "      <td>56550.171120</td>\n",
       "      <td>0.500026</td>\n",
       "      <td>62.225686</td>\n",
       "      <td>1.270258</td>\n",
       "      <td>1.977909</td>\n",
       "      <td>0.244171</td>\n",
       "      <td>0.904083</td>\n",
       "      <td>1.049047</td>\n",
       "      <td>6.991306</td>\n",
       "      <td>4.993775</td>\n",
       "      <td>98522.888583</td>\n",
       "      <td>19805.168339</td>\n",
       "    </tr>\n",
       "    <tr>\n",
       "      <th>min</th>\n",
       "      <td>12.000000</td>\n",
       "      <td>0.000000</td>\n",
       "      <td>5.000000</td>\n",
       "      <td>1.000000</td>\n",
       "      <td>1.000000</td>\n",
       "      <td>0.000000</td>\n",
       "      <td>0.000000</td>\n",
       "      <td>1.000000</td>\n",
       "      <td>16.000000</td>\n",
       "      <td>46.138968</td>\n",
       "      <td>7500.000000</td>\n",
       "      <td>2499.000000</td>\n",
       "    </tr>\n",
       "    <tr>\n",
       "      <th>25%</th>\n",
       "      <td>48835.500000</td>\n",
       "      <td>0.000000</td>\n",
       "      <td>50.000000</td>\n",
       "      <td>3.000000</td>\n",
       "      <td>6.000000</td>\n",
       "      <td>1.000000</td>\n",
       "      <td>1.000000</td>\n",
       "      <td>2.000000</td>\n",
       "      <td>45.000000</td>\n",
       "      <td>49.760116</td>\n",
       "      <td>53200.000000</td>\n",
       "      <td>40389.000000</td>\n",
       "    </tr>\n",
       "    <tr>\n",
       "      <th>50%</th>\n",
       "      <td>99106.000000</td>\n",
       "      <td>0.500000</td>\n",
       "      <td>65.000000</td>\n",
       "      <td>3.000000</td>\n",
       "      <td>8.000000</td>\n",
       "      <td>1.000000</td>\n",
       "      <td>3.000000</td>\n",
       "      <td>2.000000</td>\n",
       "      <td>50.000000</td>\n",
       "      <td>50.876672</td>\n",
       "      <td>77700.000000</td>\n",
       "      <td>48699.000000</td>\n",
       "    </tr>\n",
       "    <tr>\n",
       "      <th>75%</th>\n",
       "      <td>148538.750000</td>\n",
       "      <td>1.000000</td>\n",
       "      <td>100.000000</td>\n",
       "      <td>4.000000</td>\n",
       "      <td>8.000000</td>\n",
       "      <td>1.000000</td>\n",
       "      <td>3.000000</td>\n",
       "      <td>3.000000</td>\n",
       "      <td>55.000000</td>\n",
       "      <td>54.452822</td>\n",
       "      <td>129350.000000</td>\n",
       "      <td>62385.000000</td>\n",
       "    </tr>\n",
       "    <tr>\n",
       "      <th>max</th>\n",
       "      <td>191779.000000</td>\n",
       "      <td>1.000000</td>\n",
       "      <td>1000.000000</td>\n",
       "      <td>15.000000</td>\n",
       "      <td>20.000000</td>\n",
       "      <td>4.000000</td>\n",
       "      <td>6.000000</td>\n",
       "      <td>4.000000</td>\n",
       "      <td>60.000000</td>\n",
       "      <td>99.444787</td>\n",
       "      <td>600000.000000</td>\n",
       "      <td>200001.000000</td>\n",
       "    </tr>\n",
       "  </tbody>\n",
       "</table>\n",
       "</div>"
      ],
      "text/plain": [
       "                  ID     Suc_flag         ARPU    PromCnt12    PromCnt36  \\\n",
       "count    9686.000000  9686.000000  4843.000000  9686.000000  9686.000000   \n",
       "mean    97975.474086     0.500000    78.121722     3.495251     7.466963   \n",
       "std     56550.171120     0.500026    62.225686     1.270258     1.977909   \n",
       "min        12.000000     0.000000     5.000000     1.000000     1.000000   \n",
       "25%     48835.500000     0.000000    50.000000     3.000000     6.000000   \n",
       "50%     99106.000000     0.500000    65.000000     3.000000     8.000000   \n",
       "75%    148538.750000     1.000000   100.000000     4.000000     8.000000   \n",
       "max    191779.000000     1.000000  1000.000000    15.000000    20.000000   \n",
       "\n",
       "       PromCntMsg12  PromCntMsg36        Class          Age      AvgARPU  \\\n",
       "count   9686.000000   9686.000000  9686.000000  7279.000000  9686.000000   \n",
       "mean       1.034586      2.323044     2.424530    49.567386    52.905156   \n",
       "std        0.244171      0.904083     1.049047     6.991306     4.993775   \n",
       "min        0.000000      0.000000     1.000000    16.000000    46.138968   \n",
       "25%        1.000000      1.000000     2.000000    45.000000    49.760116   \n",
       "50%        1.000000      3.000000     2.000000    50.000000    50.876672   \n",
       "75%        1.000000      3.000000     3.000000    55.000000    54.452822   \n",
       "max        4.000000      6.000000     4.000000    60.000000    99.444787   \n",
       "\n",
       "        AvgHomeValue      AvgIncome  \n",
       "count    9583.000000    7329.000000  \n",
       "mean   112179.202755   53513.457361  \n",
       "std     98522.888583   19805.168339  \n",
       "min      7500.000000    2499.000000  \n",
       "25%     53200.000000   40389.000000  \n",
       "50%     77700.000000   48699.000000  \n",
       "75%    129350.000000   62385.000000  \n",
       "max    600000.000000  200001.000000  "
      ]
     },
     "execution_count": 13,
     "metadata": {},
     "output_type": "execute_result"
    }
   ],
   "source": [
    "camp.describe()"
   ]
  },
  {
   "cell_type": "code",
   "execution_count": 15,
   "metadata": {},
   "outputs": [
    {
     "data": {
      "text/plain": [
       "count    9686.000000\n",
       "mean       49.567386\n",
       "std         6.060585\n",
       "min        16.000000\n",
       "25%        47.000000\n",
       "50%        49.567386\n",
       "75%        54.000000\n",
       "max        60.000000\n",
       "Name: Age, dtype: float64"
      ]
     },
     "execution_count": 15,
     "metadata": {},
     "output_type": "execute_result"
    }
   ],
   "source": [
    "vmean = camp['Age'].mean(axis=0, skipna=True)# 跳过缺失值\n",
    "camp['Age_empflag'] = camp['Age'].isnull()\n",
    "camp['Age'] = camp['Age'].fillna(vmean)\n",
    "camp['Age'].describe()\n",
    "# 虚拟指标和经过补全的数据都进行建模，让模型决定那个比较有用"
   ]
  },
  {
   "cell_type": "code",
   "execution_count": 17,
   "metadata": {},
   "outputs": [
    {
     "data": {
      "text/plain": [
       "count      9686.000000\n",
       "mean     112179.202755\n",
       "std       97997.592632\n",
       "min        7500.000000\n",
       "25%       53500.000000\n",
       "50%       78450.000000\n",
       "75%      128175.000000\n",
       "max      600000.000000\n",
       "Name: AvgHomeValue, dtype: float64"
      ]
     },
     "execution_count": 17,
     "metadata": {},
     "output_type": "execute_result"
    }
   ],
   "source": [
    "vmean = camp['AvgHomeValue'].mean(axis=0, skipna=True)# 跳过缺失值\n",
    "camp['AvgHomeValue_empflag'] = camp['AvgHomeValue'].isnull()\n",
    "camp['AvgHomeValue'] = camp['AvgHomeValue'].fillna(vmean)\n",
    "camp['AvgHomeValue'].describe()"
   ]
  },
  {
   "cell_type": "code",
   "execution_count": 18,
   "metadata": {},
   "outputs": [],
   "source": [
    "def blk(floor, root):# 小于 floor 用 floor 替代，大于 root 的用 root 替代\n",
    "    def f(x):\n",
    "        if x < floor:\n",
    "            x = floor\n",
    "        elif x > root:\n",
    "            x = root\n",
    "        return x\n",
    "    return f"
   ]
  },
  {
   "cell_type": "code",
   "execution_count": 19,
   "metadata": {},
   "outputs": [
    {
     "data": {
      "text/plain": [
       "count    9686.000000\n",
       "mean       49.567386\n",
       "std         6.060585\n",
       "min        16.000000\n",
       "25%        47.000000\n",
       "50%        49.567386\n",
       "75%        54.000000\n",
       "max        60.000000\n",
       "Name: Age, dtype: float64"
      ]
     },
     "execution_count": 19,
     "metadata": {},
     "output_type": "execute_result"
    }
   ],
   "source": [
    "q1 = camp['Age'].quantile(0.1)\n",
    "q2 = camp['Age'].quantile(0.99)\n",
    "blk_tot = blk(q1, q2)\n",
    "camp['Age'].map(blk_tot)\n",
    "camp['Age'].describe()"
   ]
  },
  {
   "cell_type": "code",
   "execution_count": 27,
   "metadata": {},
   "outputs": [
    {
     "data": {
      "text/plain": [
       "0      (54.0, 60.0]\n",
       "1      (54.0, 60.0]\n",
       "2      (54.0, 60.0]\n",
       "3    (49.567, 54.0]\n",
       "4    (47.0, 49.567]\n",
       "Name: Age_group1, dtype: category\n",
       "Categories (4, interval[float64]): [(15.999, 47.0] < (47.0, 49.567] < (49.567, 54.0] < (54.0, 60.0]]"
      ]
     },
     "execution_count": 27,
     "metadata": {},
     "output_type": "execute_result"
    }
   ],
   "source": [
    "camp['Age_group1'] = pd.qcut(camp['Age'], 4) # 等深分箱\n",
    "camp.Age_group1.head()"
   ]
  },
  {
   "cell_type": "code",
   "execution_count": 24,
   "metadata": {},
   "outputs": [
    {
     "data": {
      "text/plain": [
       "0    (49.0, 60.0]\n",
       "1    (49.0, 60.0]\n",
       "2    (49.0, 60.0]\n",
       "3    (49.0, 60.0]\n",
       "4    (49.0, 60.0]\n",
       "Name: Age_group2, dtype: category\n",
       "Categories (4, interval[float64]): [(15.956, 27.0] < (27.0, 38.0] < (38.0, 49.0] < (49.0, 60.0]]"
      ]
     },
     "execution_count": 24,
     "metadata": {},
     "output_type": "execute_result"
    }
   ],
   "source": [
    "camp['Age_group2'] = pd.cut(camp['Age'], 4) # 等宽分箱\n",
    "camp.Age_group2.head()"
   ]
  },
  {
   "cell_type": "code",
   "execution_count": 28,
   "metadata": {},
   "outputs": [],
   "source": [
    "camp.to_csv('tele_camp_ok.xlsx')"
   ]
  }
 ],
 "metadata": {
  "kernelspec": {
   "display_name": "Python 3",
   "language": "python",
   "name": "python3"
  },
  "language_info": {
   "codemirror_mode": {
    "name": "ipython",
    "version": 3
   },
   "file_extension": ".py",
   "mimetype": "text/x-python",
   "name": "python",
   "nbconvert_exporter": "python",
   "pygments_lexer": "ipython3",
   "version": "3.6.7"
  }
 },
 "nbformat": 4,
 "nbformat_minor": 2
}
