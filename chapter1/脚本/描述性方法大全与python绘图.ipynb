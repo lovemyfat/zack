{
 "cells": [
  {
   "cell_type": "code",
   "execution_count": 1,
   "metadata": {},
   "outputs": [],
   "source": [
    "%matplotlib inline\n",
    "import pandas as pd\n",
    "import numpy as np\n",
    "import matplotlib.pyplot as plt\n",
    "import matplotlib\n",
    "import seaborn as sns\n",
    "import os"
   ]
  },
  {
   "cell_type": "code",
   "execution_count": 2,
   "metadata": {},
   "outputs": [],
   "source": [
    "os.chdir(r'C:\\Users\\cyb\\ipnb\\haha\\280_Ben_八大直播八大案例配套课件\\第三章\\提交-第三讲：信用卡客户特征分析-产品客户画像初步\\数据与脚本\\4describe')"
   ]
  },
  {
   "cell_type": "code",
   "execution_count": 3,
   "metadata": {},
   "outputs": [],
   "source": [
    "snd = pd.read_csv(\"sndHsPr.csv\")"
   ]
  },
  {
   "cell_type": "code",
   "execution_count": 4,
   "metadata": {},
   "outputs": [
    {
     "data": {
      "text/html": [
       "<div>\n",
       "<style scoped>\n",
       "    .dataframe tbody tr th:only-of-type {\n",
       "        vertical-align: middle;\n",
       "    }\n",
       "\n",
       "    .dataframe tbody tr th {\n",
       "        vertical-align: top;\n",
       "    }\n",
       "\n",
       "    .dataframe thead th {\n",
       "        text-align: right;\n",
       "    }\n",
       "</style>\n",
       "<table border=\"1\" class=\"dataframe\">\n",
       "  <thead>\n",
       "    <tr style=\"text-align: right;\">\n",
       "      <th></th>\n",
       "      <th>dist</th>\n",
       "      <th>roomnum</th>\n",
       "      <th>halls</th>\n",
       "      <th>AREA</th>\n",
       "      <th>floor</th>\n",
       "      <th>subway</th>\n",
       "      <th>school</th>\n",
       "      <th>price</th>\n",
       "    </tr>\n",
       "  </thead>\n",
       "  <tbody>\n",
       "    <tr>\n",
       "      <th>0</th>\n",
       "      <td>chaoyang</td>\n",
       "      <td>1</td>\n",
       "      <td>0</td>\n",
       "      <td>46.06</td>\n",
       "      <td>middle</td>\n",
       "      <td>1</td>\n",
       "      <td>0</td>\n",
       "      <td>48850</td>\n",
       "    </tr>\n",
       "    <tr>\n",
       "      <th>1</th>\n",
       "      <td>chaoyang</td>\n",
       "      <td>1</td>\n",
       "      <td>1</td>\n",
       "      <td>59.09</td>\n",
       "      <td>middle</td>\n",
       "      <td>1</td>\n",
       "      <td>0</td>\n",
       "      <td>46540</td>\n",
       "    </tr>\n",
       "    <tr>\n",
       "      <th>2</th>\n",
       "      <td>haidian</td>\n",
       "      <td>5</td>\n",
       "      <td>2</td>\n",
       "      <td>278.95</td>\n",
       "      <td>high</td>\n",
       "      <td>1</td>\n",
       "      <td>1</td>\n",
       "      <td>71662</td>\n",
       "    </tr>\n",
       "    <tr>\n",
       "      <th>3</th>\n",
       "      <td>haidian</td>\n",
       "      <td>3</td>\n",
       "      <td>2</td>\n",
       "      <td>207.00</td>\n",
       "      <td>high</td>\n",
       "      <td>1</td>\n",
       "      <td>1</td>\n",
       "      <td>57972</td>\n",
       "    </tr>\n",
       "    <tr>\n",
       "      <th>4</th>\n",
       "      <td>fengtai</td>\n",
       "      <td>2</td>\n",
       "      <td>1</td>\n",
       "      <td>53.32</td>\n",
       "      <td>low</td>\n",
       "      <td>1</td>\n",
       "      <td>1</td>\n",
       "      <td>71268</td>\n",
       "    </tr>\n",
       "  </tbody>\n",
       "</table>\n",
       "</div>"
      ],
      "text/plain": [
       "       dist  roomnum  halls    AREA   floor  subway  school  price\n",
       "0  chaoyang        1      0   46.06  middle       1       0  48850\n",
       "1  chaoyang        1      1   59.09  middle       1       0  46540\n",
       "2   haidian        5      2  278.95    high       1       1  71662\n",
       "3   haidian        3      2  207.00    high       1       1  57972\n",
       "4   fengtai        2      1   53.32     low       1       1  71268"
      ]
     },
     "execution_count": 4,
     "metadata": {},
     "output_type": "execute_result"
    }
   ],
   "source": [
    "snd.head()"
   ]
  },
  {
   "cell_type": "code",
   "execution_count": 5,
   "metadata": {},
   "outputs": [
    {
     "data": {
      "text/plain": [
       "dist        object\n",
       "roomnum      int64\n",
       "halls        int64\n",
       "AREA       float64\n",
       "floor       object\n",
       "subway       int64\n",
       "school       int64\n",
       "price        int64\n",
       "dtype: object"
      ]
     },
     "execution_count": 5,
     "metadata": {},
     "output_type": "execute_result"
    }
   ],
   "source": [
    "snd.dtypes"
   ]
  },
  {
   "cell_type": "markdown",
   "metadata": {},
   "source": [
    "## 一个变量的处理<br />分类变量 dist ，房子所在地区"
   ]
  },
  {
   "cell_type": "code",
   "execution_count": 6,
   "metadata": {},
   "outputs": [
    {
     "data": {
      "text/html": [
       "<div>\n",
       "<style scoped>\n",
       "    .dataframe tbody tr th:only-of-type {\n",
       "        vertical-align: middle;\n",
       "    }\n",
       "\n",
       "    .dataframe tbody tr th {\n",
       "        vertical-align: top;\n",
       "    }\n",
       "\n",
       "    .dataframe thead th {\n",
       "        text-align: right;\n",
       "    }\n",
       "</style>\n",
       "<table border=\"1\" class=\"dataframe\">\n",
       "  <thead>\n",
       "    <tr style=\"text-align: right;\">\n",
       "      <th></th>\n",
       "      <th>dist</th>\n",
       "      <th>roomnum</th>\n",
       "      <th>halls</th>\n",
       "      <th>AREA</th>\n",
       "      <th>floor</th>\n",
       "      <th>subway</th>\n",
       "      <th>school</th>\n",
       "      <th>price</th>\n",
       "      <th>district</th>\n",
       "    </tr>\n",
       "  </thead>\n",
       "  <tbody>\n",
       "    <tr>\n",
       "      <th>0</th>\n",
       "      <td>chaoyang</td>\n",
       "      <td>1</td>\n",
       "      <td>0</td>\n",
       "      <td>46.06</td>\n",
       "      <td>middle</td>\n",
       "      <td>1</td>\n",
       "      <td>0</td>\n",
       "      <td>48850</td>\n",
       "      <td>朝阳区</td>\n",
       "    </tr>\n",
       "    <tr>\n",
       "      <th>1</th>\n",
       "      <td>chaoyang</td>\n",
       "      <td>1</td>\n",
       "      <td>1</td>\n",
       "      <td>59.09</td>\n",
       "      <td>middle</td>\n",
       "      <td>1</td>\n",
       "      <td>0</td>\n",
       "      <td>46540</td>\n",
       "      <td>朝阳区</td>\n",
       "    </tr>\n",
       "    <tr>\n",
       "      <th>2</th>\n",
       "      <td>haidian</td>\n",
       "      <td>5</td>\n",
       "      <td>2</td>\n",
       "      <td>278.95</td>\n",
       "      <td>high</td>\n",
       "      <td>1</td>\n",
       "      <td>1</td>\n",
       "      <td>71662</td>\n",
       "      <td>海淀区</td>\n",
       "    </tr>\n",
       "    <tr>\n",
       "      <th>3</th>\n",
       "      <td>haidian</td>\n",
       "      <td>3</td>\n",
       "      <td>2</td>\n",
       "      <td>207.00</td>\n",
       "      <td>high</td>\n",
       "      <td>1</td>\n",
       "      <td>1</td>\n",
       "      <td>57972</td>\n",
       "      <td>海淀区</td>\n",
       "    </tr>\n",
       "    <tr>\n",
       "      <th>4</th>\n",
       "      <td>fengtai</td>\n",
       "      <td>2</td>\n",
       "      <td>1</td>\n",
       "      <td>53.32</td>\n",
       "      <td>low</td>\n",
       "      <td>1</td>\n",
       "      <td>1</td>\n",
       "      <td>71268</td>\n",
       "      <td>丰台区</td>\n",
       "    </tr>\n",
       "  </tbody>\n",
       "</table>\n",
       "</div>"
      ],
      "text/plain": [
       "       dist  roomnum  halls    AREA   floor  subway  school  price district\n",
       "0  chaoyang        1      0   46.06  middle       1       0  48850      朝阳区\n",
       "1  chaoyang        1      1   59.09  middle       1       0  46540      朝阳区\n",
       "2   haidian        5      2  278.95    high       1       1  71662      海淀区\n",
       "3   haidian        3      2  207.00    high       1       1  57972      海淀区\n",
       "4   fengtai        2      1   53.32     low       1       1  71268      丰台区"
      ]
     },
     "execution_count": 6,
     "metadata": {},
     "output_type": "execute_result"
    }
   ],
   "source": [
    "# dist 拼音转化为汉字\n",
    "district = {'fengtai':'丰台区','haidian':'海淀区','chaoyang':'朝阳区','dongcheng':'东城区','xicheng':'西城区','shijingshan':'石景山区'}\n",
    "snd['district'] = snd.dist.map(district)\n",
    "snd.head()"
   ]
  },
  {
   "cell_type": "code",
   "execution_count": 7,
   "metadata": {},
   "outputs": [
    {
     "data": {
      "text/plain": [
       "fengtai        2947\n",
       "haidian        2919\n",
       "chaoyang       2864\n",
       "dongcheng      2783\n",
       "xicheng        2750\n",
       "shijingshan    1947\n",
       "Name: dist, dtype: int64"
      ]
     },
     "execution_count": 7,
     "metadata": {},
     "output_type": "execute_result"
    }
   ],
   "source": [
    "snd.dist.value_counts()"
   ]
  },
  {
   "cell_type": "code",
   "execution_count": 8,
   "metadata": {},
   "outputs": [
    {
     "data": {
      "text/plain": [
       "<matplotlib.axes._subplots.AxesSubplot at 0x288c8b42668>"
      ]
     },
     "execution_count": 8,
     "metadata": {},
     "output_type": "execute_result"
    },
    {
     "data": {
      "image/png": "[encoded data removed]",
      "text/plain": [
       "<Figure size 432x288 with 1 Axes>"
      ]
     },
     "metadata": {
      "needs_background": "light"
     },
     "output_type": "display_data"
    }
   ],
   "source": [
    "# value_counts() 返回的是 Series，所以可以直接用 plot 方法\n",
    "snd.district.value_counts().plot(kind='bar')"
   ]
  },
  {
   "cell_type": "code",
   "execution_count": 9,
   "metadata": {},
   "outputs": [
    {
     "data": {
      "text/plain": [
       "<matplotlib.axes._subplots.AxesSubplot at 0x288c8e563c8>"
      ]
     },
     "execution_count": 9,
     "metadata": {},
     "output_type": "execute_result"
    },
    {
     "data": {
      "image/png": "[encoded data removed]",
      "text/plain": [
       "<Figure size 432x288 with 1 Axes>"
      ]
     },
     "metadata": {
      "needs_background": "light"
     },
     "output_type": "display_data"
    }
   ],
   "source": [
    "# 解决中文乱码问题\n",
    "from pylab import mpl\n",
    "mpl.rcParams['font.sans-serif'] = ['SimHei'] # 指定默认字体\n",
    "mpl.rcParams['axes.unicode_minus'] = False # 解决保存图像是符号 '-' 显示为方块的问题\n",
    "snd.district.value_counts().plot(kind='bar')# pie"
   ]
  },
  {
   "cell_type": "markdown",
   "metadata": {},
   "source": [
    "## 连续变量<br />房价的均值、中位数、标准差、偏度"
   ]
  },
  {
   "cell_type": "code",
   "execution_count": 10,
   "metadata": {},
   "outputs": [
    {
     "data": {
      "text/plain": [
       "(61151.810919185686, 57473.0)"
      ]
     },
     "execution_count": 10,
     "metadata": {},
     "output_type": "execute_result"
    }
   ],
   "source": [
    "snd.price.mean(), snd.price.median() # 右偏"
   ]
  },
  {
   "cell_type": "code",
   "execution_count": 11,
   "metadata": {},
   "outputs": [
    {
     "data": {
      "text/plain": [
       "(22293.358147328723, 0.6794935869486859)"
      ]
     },
     "execution_count": 11,
     "metadata": {},
     "output_type": "execute_result"
    }
   ],
   "source": [
    "snd.price.std(), snd.price.skew() # skew > 1 右偏严重"
   ]
  },
  {
   "cell_type": "code",
   "execution_count": 12,
   "metadata": {},
   "outputs": [
    {
     "data": {
      "text/plain": [
       "mean      6.115181e+04\n",
       "median    5.747300e+04\n",
       "std       2.229336e+04\n",
       "skew      6.794936e-01\n",
       "sum       9.912709e+08\n",
       "Name: price, dtype: float64"
      ]
     },
     "execution_count": 12,
     "metadata": {},
     "output_type": "execute_result"
    }
   ],
   "source": [
    "snd.price.agg(['mean', 'median', 'std', 'skew', 'sum'])"
   ]
  },
  {
   "cell_type": "code",
   "execution_count": 13,
   "metadata": {},
   "outputs": [
    {
     "data": {
      "text/plain": [
       "<matplotlib.axes._subplots.AxesSubplot at 0x288c8ebbda0>"
      ]
     },
     "execution_count": 13,
     "metadata": {},
     "output_type": "execute_result"
    },
    {
     "data": {
      "image/png": "[encoded data removed]",
      "text/plain": [
       "<Figure size 432x288 with 1 Axes>"
      ]
     },
     "metadata": {
      "needs_background": "light"
     },
     "output_type": "display_data"
    }
   ],
   "source": [
    "# 直方图观察分布\n",
    "snd.price.hist(bins=40)"
   ]
  },
  {
   "cell_type": "code",
   "execution_count": 14,
   "metadata": {},
   "outputs": [
    {
     "data": {
      "text/plain": [
       "0.01     27104.45\n",
       "0.50     57473.00\n",
       "0.99    119996.85\n",
       "Name: price, dtype: float64"
      ]
     },
     "execution_count": 14,
     "metadata": {},
     "output_type": "execute_result"
    }
   ],
   "source": [
    "snd.price.quantile([0.01, 0.5, 0.99])"
   ]
  },
  {
   "cell_type": "markdown",
   "metadata": {},
   "source": [
    "## 两个变量的分析"
   ]
  },
  {
   "cell_type": "code",
   "execution_count": 15,
   "metadata": {},
   "outputs": [
    {
     "data": {
      "text/html": [
       "<div>\n",
       "<style scoped>\n",
       "    .dataframe tbody tr th:only-of-type {\n",
       "        vertical-align: middle;\n",
       "    }\n",
       "\n",
       "    .dataframe tbody tr th {\n",
       "        vertical-align: top;\n",
       "    }\n",
       "\n",
       "    .dataframe thead th {\n",
       "        text-align: right;\n",
       "    }\n",
       "</style>\n",
       "<table border=\"1\" class=\"dataframe\">\n",
       "  <thead>\n",
       "    <tr style=\"text-align: right;\">\n",
       "      <th>school</th>\n",
       "      <th>0</th>\n",
       "      <th>1</th>\n",
       "    </tr>\n",
       "    <tr>\n",
       "      <th>district</th>\n",
       "      <th></th>\n",
       "      <th></th>\n",
       "    </tr>\n",
       "  </thead>\n",
       "  <tbody>\n",
       "    <tr>\n",
       "      <th>东城区</th>\n",
       "      <td>1508</td>\n",
       "      <td>1275</td>\n",
       "    </tr>\n",
       "    <tr>\n",
       "      <th>丰台区</th>\n",
       "      <td>2853</td>\n",
       "      <td>94</td>\n",
       "    </tr>\n",
       "    <tr>\n",
       "      <th>朝阳区</th>\n",
       "      <td>2267</td>\n",
       "      <td>597</td>\n",
       "    </tr>\n",
       "    <tr>\n",
       "      <th>海淀区</th>\n",
       "      <td>1533</td>\n",
       "      <td>1386</td>\n",
       "    </tr>\n",
       "    <tr>\n",
       "      <th>石景山区</th>\n",
       "      <td>1929</td>\n",
       "      <td>18</td>\n",
       "    </tr>\n",
       "    <tr>\n",
       "      <th>西城区</th>\n",
       "      <td>1207</td>\n",
       "      <td>1543</td>\n",
       "    </tr>\n",
       "  </tbody>\n",
       "</table>\n",
       "</div>"
      ],
      "text/plain": [
       "school       0     1\n",
       "district            \n",
       "东城区       1508  1275\n",
       "丰台区       2853    94\n",
       "朝阳区       2267   597\n",
       "海淀区       1533  1386\n",
       "石景山区      1929    18\n",
       "西城区       1207  1543"
      ]
     },
     "execution_count": 15,
     "metadata": {},
     "output_type": "execute_result"
    }
   ],
   "source": [
    "sub_sch = pd.crosstab(snd.district, snd.school)\n",
    "sub_sch"
   ]
  },
  {
   "cell_type": "code",
   "execution_count": 16,
   "metadata": {},
   "outputs": [
    {
     "data": {
      "text/plain": [
       "<matplotlib.axes._subplots.AxesSubplot at 0x288c8fd6198>"
      ]
     },
     "execution_count": 16,
     "metadata": {},
     "output_type": "execute_result"
    },
    {
     "data": {
      "image/png": "[encoded data removed]",
      "text/plain": [
       "<Figure size 432x288 with 1 Axes>"
      ]
     },
     "metadata": {
      "needs_background": "light"
     },
     "output_type": "display_data"
    }
   ],
   "source": [
    "sub_sch.plot(kind='bar')"
   ]
  },
  {
   "cell_type": "code",
   "execution_count": 17,
   "metadata": {},
   "outputs": [
    {
     "data": {
      "text/plain": [
       "<matplotlib.axes._subplots.AxesSubplot at 0x288c8f87ef0>"
      ]
     },
     "execution_count": 17,
     "metadata": {},
     "output_type": "execute_result"
    },
    {
     "data": {
      "image/png": "[encoded data removed]",
      "text/plain": [
       "<Figure size 432x288 with 1 Axes>"
      ]
     },
     "metadata": {
      "needs_background": "light"
     },
     "output_type": "display_data"
    }
   ],
   "source": [
    "# 比较每个地区教育是否均衡，是否有些地区学区房较多，这时候用堆叠柱形图比较好\n",
    "sub_sch.plot(kind='bar', stacked=True)"
   ]
  },
  {
   "cell_type": "code",
   "execution_count": 18,
   "metadata": {},
   "outputs": [
    {
     "data": {
      "text/html": [
       "<div>\n",
       "<style scoped>\n",
       "    .dataframe tbody tr th:only-of-type {\n",
       "        vertical-align: middle;\n",
       "    }\n",
       "\n",
       "    .dataframe tbody tr th {\n",
       "        vertical-align: top;\n",
       "    }\n",
       "\n",
       "    .dataframe thead th {\n",
       "        text-align: right;\n",
       "    }\n",
       "</style>\n",
       "<table border=\"1\" class=\"dataframe\">\n",
       "  <thead>\n",
       "    <tr style=\"text-align: right;\">\n",
       "      <th>school</th>\n",
       "      <th>0</th>\n",
       "      <th>1</th>\n",
       "      <th>sum1</th>\n",
       "    </tr>\n",
       "    <tr>\n",
       "      <th>district</th>\n",
       "      <th></th>\n",
       "      <th></th>\n",
       "      <th></th>\n",
       "    </tr>\n",
       "  </thead>\n",
       "  <tbody>\n",
       "    <tr>\n",
       "      <th>东城区</th>\n",
       "      <td>1508</td>\n",
       "      <td>1275</td>\n",
       "      <td>2783</td>\n",
       "    </tr>\n",
       "    <tr>\n",
       "      <th>丰台区</th>\n",
       "      <td>2853</td>\n",
       "      <td>94</td>\n",
       "      <td>2947</td>\n",
       "    </tr>\n",
       "    <tr>\n",
       "      <th>朝阳区</th>\n",
       "      <td>2267</td>\n",
       "      <td>597</td>\n",
       "      <td>2864</td>\n",
       "    </tr>\n",
       "    <tr>\n",
       "      <th>海淀区</th>\n",
       "      <td>1533</td>\n",
       "      <td>1386</td>\n",
       "      <td>2919</td>\n",
       "    </tr>\n",
       "    <tr>\n",
       "      <th>石景山区</th>\n",
       "      <td>1929</td>\n",
       "      <td>18</td>\n",
       "      <td>1947</td>\n",
       "    </tr>\n",
       "  </tbody>\n",
       "</table>\n",
       "</div>"
      ],
      "text/plain": [
       "school       0     1  sum1\n",
       "district                  \n",
       "东城区       1508  1275  2783\n",
       "丰台区       2853    94  2947\n",
       "朝阳区       2267   597  2864\n",
       "海淀区       1533  1386  2919\n",
       "石景山区      1929    18  1947"
      ]
     },
     "execution_count": 18,
     "metadata": {},
     "output_type": "execute_result"
    }
   ],
   "source": [
    "# 标准化了的堆叠柱形图，转化为比例\n",
    "sub_sch['sum1'] = sub_sch.sum(1) # 按列汇总\n",
    "sub_sch.head()"
   ]
  },
  {
   "cell_type": "code",
   "execution_count": 27,
   "metadata": {},
   "outputs": [
    {
     "data": {
      "image/png": "[encoded data removed]",
      "text/plain": [
       "<Figure size 432x288 with 1 Axes>"
      ]
     },
     "metadata": {
      "needs_background": "light"
     },
     "output_type": "display_data"
    }
   ],
   "source": [
    "sub_sch = sub_sch.div(sub_sch.sum1, axis=0)\n",
    "sub_sch[[0,1]].plot(kind='bar', stacked=True)"
   ]
  },
  {
   "cell_type": "code",
   "execution_count": 20,
   "metadata": {},
   "outputs": [
    {
     "data": {
      "image/png": "[encoded data removed]",
      "text/plain": [
       "<Figure size 432x288 with 1 Axes>"
      ]
     },
     "metadata": {
      "needs_background": "light"
     },
     "output_type": "display_data"
    }
   ],
   "source": [
    "# 这样比较不了各个地区的房源数量，解决如下\n",
    "from stack2dim import *\n",
    "stack2dim(snd, i='district', j='school')"
   ]
  },
  {
   "cell_type": "code",
   "execution_count": 21,
   "metadata": {},
   "outputs": [],
   "source": [
    "# 一个比较特殊的柱形图，地图 6:00"
   ]
  },
  {
   "cell_type": "markdown",
   "metadata": {},
   "source": [
    "### 一个分类变量，一个连续变量的分析"
   ]
  },
  {
   "cell_type": "code",
   "execution_count": 22,
   "metadata": {},
   "outputs": [
    {
     "data": {
      "text/plain": [
       "<matplotlib.axes._subplots.AxesSubplot at 0x288c925b1d0>"
      ]
     },
     "execution_count": 22,
     "metadata": {},
     "output_type": "execute_result"
    },
    {
     "data": {
      "image/png": "[encoded data removed]",
      "text/plain": [
       "<Figure size 432x288 with 1 Axes>"
      ]
     },
     "metadata": {
      "needs_background": "light"
     },
     "output_type": "display_data"
    }
   ],
   "source": [
    "snd.price.groupby(snd.district).mean().plot(kind='bar')"
   ]
  },
  {
   "cell_type": "code",
   "execution_count": 23,
   "metadata": {},
   "outputs": [
    {
     "data": {
      "text/plain": [
       "<matplotlib.axes._subplots.AxesSubplot at 0x288c92e9630>"
      ]
     },
     "execution_count": 23,
     "metadata": {},
     "output_type": "execute_result"
    },
    {
     "data": {
      "image/png": "[encoded data removed]",
      "text/plain": [
       "<Figure size 432x288 with 1 Axes>"
      ]
     },
     "metadata": {
      "needs_background": "light"
     },
     "output_type": "display_data"
    }
   ],
   "source": [
    "snd.price.groupby(snd.district).mean().sort_values(ascending=True).plot(kind='barh')"
   ]
  },
  {
   "cell_type": "code",
   "execution_count": 24,
   "metadata": {},
   "outputs": [
    {
     "data": {
      "text/plain": [
       "<matplotlib.axes._subplots.AxesSubplot at 0x288c92d37b8>"
      ]
     },
     "execution_count": 24,
     "metadata": {},
     "output_type": "execute_result"
    },
    {
     "data": {
      "image/png": "[encoded data removed]",
      "text/plain": [
       "<Figure size 432x288 with 1 Axes>"
      ]
     },
     "metadata": {
      "needs_background": "light"
     },
     "output_type": "display_data"
    }
   ],
   "source": [
    "sns.boxplot(x='district', y='price', data=snd)"
   ]
  },
  {
   "cell_type": "markdown",
   "metadata": {},
   "source": [
    "## 一个连续型变量与多个分类型变量的分析"
   ]
  },
  {
   "cell_type": "code",
   "execution_count": 25,
   "metadata": {},
   "outputs": [
    {
     "data": {
      "text/html": [
       "<div>\n",
       "<style scoped>\n",
       "    .dataframe tbody tr th:only-of-type {\n",
       "        vertical-align: middle;\n",
       "    }\n",
       "\n",
       "    .dataframe tbody tr th {\n",
       "        vertical-align: top;\n",
       "    }\n",
       "\n",
       "    .dataframe thead th {\n",
       "        text-align: right;\n",
       "    }\n",
       "</style>\n",
       "<table border=\"1\" class=\"dataframe\">\n",
       "  <thead>\n",
       "    <tr style=\"text-align: right;\">\n",
       "      <th>school</th>\n",
       "      <th>0</th>\n",
       "      <th>1</th>\n",
       "    </tr>\n",
       "    <tr>\n",
       "      <th>district</th>\n",
       "      <th></th>\n",
       "      <th></th>\n",
       "    </tr>\n",
       "  </thead>\n",
       "  <tbody>\n",
       "    <tr>\n",
       "      <th>东城区</th>\n",
       "      <td>66276.887931</td>\n",
       "      <td>78514.900392</td>\n",
       "    </tr>\n",
       "    <tr>\n",
       "      <th>丰台区</th>\n",
       "      <td>42291.003505</td>\n",
       "      <td>48871.617021</td>\n",
       "    </tr>\n",
       "    <tr>\n",
       "      <th>朝阳区</th>\n",
       "      <td>51588.511689</td>\n",
       "      <td>57403.405360</td>\n",
       "    </tr>\n",
       "    <tr>\n",
       "      <th>海淀区</th>\n",
       "      <td>61385.803653</td>\n",
       "      <td>76911.258297</td>\n",
       "    </tr>\n",
       "    <tr>\n",
       "      <th>石景山区</th>\n",
       "      <td>40353.883878</td>\n",
       "      <td>33107.333333</td>\n",
       "    </tr>\n",
       "    <tr>\n",
       "      <th>西城区</th>\n",
       "      <td>76989.369511</td>\n",
       "      <td>92468.873623</td>\n",
       "    </tr>\n",
       "  </tbody>\n",
       "</table>\n",
       "</div>"
      ],
      "text/plain": [
       "school               0             1\n",
       "district                            \n",
       "东城区       66276.887931  78514.900392\n",
       "丰台区       42291.003505  48871.617021\n",
       "朝阳区       51588.511689  57403.405360\n",
       "海淀区       61385.803653  76911.258297\n",
       "石景山区      40353.883878  33107.333333\n",
       "西城区       76989.369511  92468.873623"
      ]
     },
     "execution_count": 25,
     "metadata": {},
     "output_type": "execute_result"
    }
   ],
   "source": [
    "snd.pivot_table(values='price', index='district', columns='school', aggfunc='mean')"
   ]
  },
  {
   "cell_type": "code",
   "execution_count": 26,
   "metadata": {},
   "outputs": [
    {
     "data": {
      "text/plain": [
       "<matplotlib.axes._subplots.AxesSubplot at 0x288c941ef98>"
      ]
     },
     "execution_count": 26,
     "metadata": {},
     "output_type": "execute_result"
    },
    {
     "data": {
      "image/png": "[encoded data removed]",
      "text/plain": [
       "<Figure size 432x288 with 1 Axes>"
      ]
     },
     "metadata": {
      "needs_background": "light"
     },
     "output_type": "display_data"
    }
   ],
   "source": [
    "snd.pivot_table(values='price', index='district', columns='school', aggfunc='mean').plot(kind='bar')"
   ]
  },
  {
   "cell_type": "code",
   "execution_count": null,
   "metadata": {},
   "outputs": [],
   "source": []
  }
 ],
 "metadata": {
  "kernelspec": {
   "display_name": "Python 3",
   "language": "python",
   "name": "python3"
  },
  "language_info": {
   "codemirror_mode": {
    "name": "ipython",
    "version": 3
   },
   "file_extension": ".py",
   "mimetype": "text/x-python",
   "name": "python",
   "nbconvert_exporter": "python",
   "pygments_lexer": "ipython3",
   "version": "3.6.7"
  }
 },
 "nbformat": 4,
 "nbformat_minor": 2
}
